{
 "cells": [
  {
   "cell_type": "markdown",
   "metadata": {
    "id": "Vd9hwgwoGlXb"
   },
   "source": [
    "# What this is\n",
    "I am using data science tools in order to analyze my financial decisions. Below I will be:\n",
    "* Looking at data correlation;\n",
    "* Cleaning the data to avoid empty and redundant information;\n",
    "* Using LinearRegression and PolinomiaRegression to \"predict\" my average spending using index as parameter (not expecting good results, but as illustration for the next point);\n",
    "* Using AutoRegression, commonly used for time series, and then also implementing it using LinearRegression for p = 1 (for illustrative purposes);\n",
    "\n",
    "# Goals\n",
    "\n",
    "Using my financial information, I want to:\n",
    "* Understand my pattern of spending;\n",
    "* Understand why I spent so little in general in the past, enough to be proud of my responsability with money, but now its been the opposite (this will be further demonstrated below);\n",
    "* Make a personal analysis tool for myself that can help me avoid lifestyle creep;"
   ]
  },
  {
   "cell_type": "markdown",
   "metadata": {
    "id": "uNrh8Sds5tGh"
   },
   "source": [
    "# Reading Finances File"
   ]
  },
  {
   "cell_type": "code",
   "execution_count": 1,
   "metadata": {
    "id": "dCHVh9lgnSBB"
   },
   "outputs": [],
   "source": [
    "import pandas as pd\n",
    "import plotly.figure_factory as ff\n",
    "import numpy as np"
   ]
  },
  {
   "cell_type": "code",
   "execution_count": 3,
   "metadata": {
    "colab": {
     "base_uri": "https://localhost:8080/",
     "height": 330
    },
    "collapsed": true,
    "id": "73IAlAqjlO7s",
    "outputId": "f9f31698-cf4e-45de-e609-65217f451685"
   },
   "outputs": [
    {
     "data": {
      "text/html": [
       "<div>\n",
       "<style scoped>\n",
       "    .dataframe tbody tr th:only-of-type {\n",
       "        vertical-align: middle;\n",
       "    }\n",
       "\n",
       "    .dataframe tbody tr th {\n",
       "        vertical-align: top;\n",
       "    }\n",
       "\n",
       "    .dataframe thead th {\n",
       "        text-align: right;\n",
       "    }\n",
       "</style>\n",
       "<table border=\"1\" class=\"dataframe\">\n",
       "  <thead>\n",
       "    <tr style=\"text-align: right;\">\n",
       "      <th></th>\n",
       "      <th>Positive Value</th>\n",
       "      <th>IFOOD TOTAL</th>\n",
       "      <th>Agua Serviço Gasto</th>\n",
       "      <th>WITH-OTHER-PEOPLE TOTAL</th>\n",
       "      <th>Extra Groceries 🥫 TOTAL</th>\n",
       "      <th>Final Maximum</th>\n",
       "      <th>Final Minimum</th>\n",
       "      <th>Rancho</th>\n",
       "      <th>TRANSPORTE TOTAL</th>\n",
       "      <th>Maximum Expense</th>\n",
       "      <th>Current</th>\n",
       "      <th>Minimum Expense</th>\n",
       "      <th>Beleza TOTAL</th>\n",
       "    </tr>\n",
       "  </thead>\n",
       "  <tbody>\n",
       "    <tr>\n",
       "      <th>0</th>\n",
       "      <td>3020</td>\n",
       "      <td>46</td>\n",
       "      <td>44.45</td>\n",
       "      <td>386.7</td>\n",
       "      <td>56.57</td>\n",
       "      <td>464.23</td>\n",
       "      <td>600.91</td>\n",
       "      <td>0</td>\n",
       "      <td>164.46</td>\n",
       "      <td>2555.77</td>\n",
       "      <td>600.91</td>\n",
       "      <td>2419.09</td>\n",
       "      <td>301.59</td>\n",
       "    </tr>\n",
       "    <tr>\n",
       "      <th>1</th>\n",
       "      <td>3020</td>\n",
       "      <td>57</td>\n",
       "      <td>44.45</td>\n",
       "      <td>201.0</td>\n",
       "      <td>5.00</td>\n",
       "      <td>-314.77</td>\n",
       "      <td>109.09</td>\n",
       "      <td>0</td>\n",
       "      <td>105.14</td>\n",
       "      <td>3334.77</td>\n",
       "      <td>564.09</td>\n",
       "      <td>2910.91</td>\n",
       "      <td>300.00</td>\n",
       "    </tr>\n",
       "  </tbody>\n",
       "</table>\n",
       "</div>"
      ],
      "text/plain": [
       "   Positive Value  IFOOD TOTAL  Agua Serviço Gasto  WITH-OTHER-PEOPLE TOTAL  \\\n",
       "0            3020           46               44.45                    386.7   \n",
       "1            3020           57               44.45                    201.0   \n",
       "\n",
       "   Extra Groceries 🥫 TOTAL  Final Maximum  Final Minimum  Rancho  \\\n",
       "0                    56.57         464.23         600.91       0   \n",
       "1                     5.00        -314.77         109.09       0   \n",
       "\n",
       "   TRANSPORTE TOTAL  Maximum Expense  Current  Minimum Expense  Beleza TOTAL  \n",
       "0            164.46          2555.77   600.91          2419.09        301.59  \n",
       "1            105.14          3334.77   564.09          2910.91        300.00  "
      ]
     },
     "execution_count": 3,
     "metadata": {},
     "output_type": "execute_result"
    }
   ],
   "source": [
    "\n",
    "\n",
    "file_path = \"src/historic.xlsx\"\n",
    "\n",
    "# Load the \"historic\" sheet into a DataFrame\n",
    "historic_df = pd.read_excel(file_path, )\n",
    "# Remove completely empty rows and columns\n",
    "historic_cleaned_df = historic_df.dropna(how='all').dropna(axis=1, how='all')\n",
    "\n",
    "# Display the first few rows of the \"historic\" sheet to understand its structure\n",
    "historic_cleaned_df.head()\n"
   ]
  },
  {
   "cell_type": "code",
   "execution_count": 5,
   "metadata": {
    "colab": {
     "base_uri": "https://localhost:8080/",
     "height": 241
    },
    "id": "OeAUTauJmOwr",
    "outputId": "cf7cbf46-46a6-4585-de6d-2e264f73744a"
   },
   "outputs": [
    {
     "data": {
      "text/plain": [
       "0    44.45\n",
       "1    44.45\n",
       "Name: Agua Serviço Gasto, dtype: float64"
      ]
     },
     "execution_count": 5,
     "metadata": {},
     "output_type": "execute_result"
    }
   ],
   "source": [
    "# checking it loaded all months, by looking at water consumption column\n",
    "historic_cleaned_df[\"Agua Serviço Gasto\"]"
   ]
  },
  {
   "cell_type": "code",
   "execution_count": 6,
   "metadata": {
    "colab": {
     "base_uri": "https://localhost:8080/"
    },
    "id": "Kqacj2P5nJFY",
    "outputId": "5057d756-84a3-45fc-ad78-91dc8b80e6e1"
   },
   "outputs": [
    {
     "name": "stdout",
     "output_type": "stream",
     "text": [
      "Positive Value               int64\n",
      "IFOOD TOTAL                  int64\n",
      "Agua Serviço Gasto         float64\n",
      "WITH-OTHER-PEOPLE TOTAL    float64\n",
      "Extra Groceries 🥫 TOTAL    float64\n",
      "Final Maximum              float64\n",
      "Final Minimum              float64\n",
      "Rancho                       int64\n",
      "TRANSPORTE TOTAL           float64\n",
      "Maximum Expense            float64\n",
      "Current                    float64\n",
      "Minimum Expense            float64\n",
      "Beleza TOTAL               float64\n",
      "dtype: object\n"
     ]
    }
   ],
   "source": [
    "\n",
    "# Function to convert all object columns to float where possible\n",
    "def convert_objects_to_float(df):\n",
    "    for col in df.columns:\n",
    "        if df[col].dtype == 'object':  # Check if the column is of type object\n",
    "            try:\n",
    "                # Attempt to convert the object column to float\n",
    "                df[col] = pd.to_numeric(df[col], errors='ignore')\n",
    "            except ValueError:\n",
    "                # If conversion fails, leave the column as is\n",
    "                pass\n",
    "    return df\n",
    "\n",
    "# Apply the conversion function to your DataFrame\n",
    "historic_cleaned_df = convert_objects_to_float(historic_cleaned_df)\n",
    "\n",
    "# Display the updated DataFrame with converted columns\n",
    "print(historic_cleaned_df.dtypes)\n"
   ]
  },
  {
   "cell_type": "code",
   "execution_count": 7,
   "metadata": {
    "colab": {
     "base_uri": "https://localhost:8080/",
     "height": 243
    },
    "id": "pIpnACOonePq",
    "outputId": "810f8c12-6fec-4e93-aae1-b83c1ab93ef3"
   },
   "outputs": [
    {
     "data": {
      "text/html": [
       "<div>\n",
       "<style scoped>\n",
       "    .dataframe tbody tr th:only-of-type {\n",
       "        vertical-align: middle;\n",
       "    }\n",
       "\n",
       "    .dataframe tbody tr th {\n",
       "        vertical-align: top;\n",
       "    }\n",
       "\n",
       "    .dataframe thead th {\n",
       "        text-align: right;\n",
       "    }\n",
       "</style>\n",
       "<table border=\"1\" class=\"dataframe\">\n",
       "  <thead>\n",
       "    <tr style=\"text-align: right;\">\n",
       "      <th></th>\n",
       "      <th>Positive Value</th>\n",
       "      <th>IFOOD TOTAL</th>\n",
       "      <th>Agua Serviço Gasto</th>\n",
       "      <th>WITH-OTHER-PEOPLE TOTAL</th>\n",
       "      <th>Extra Groceries 🥫 TOTAL</th>\n",
       "      <th>Final Maximum</th>\n",
       "      <th>Final Minimum</th>\n",
       "      <th>Rancho</th>\n",
       "      <th>TRANSPORTE TOTAL</th>\n",
       "      <th>Maximum Expense</th>\n",
       "      <th>Current</th>\n",
       "      <th>Minimum Expense</th>\n",
       "      <th>Beleza TOTAL</th>\n",
       "    </tr>\n",
       "  </thead>\n",
       "  <tbody>\n",
       "    <tr>\n",
       "      <th>0</th>\n",
       "      <td>3020</td>\n",
       "      <td>46</td>\n",
       "      <td>44.45</td>\n",
       "      <td>386.7</td>\n",
       "      <td>56.57</td>\n",
       "      <td>464.23</td>\n",
       "      <td>600.91</td>\n",
       "      <td>0</td>\n",
       "      <td>164.46</td>\n",
       "      <td>2555.77</td>\n",
       "      <td>600.91</td>\n",
       "      <td>2419.09</td>\n",
       "      <td>301.59</td>\n",
       "    </tr>\n",
       "    <tr>\n",
       "      <th>1</th>\n",
       "      <td>3020</td>\n",
       "      <td>57</td>\n",
       "      <td>44.45</td>\n",
       "      <td>201.0</td>\n",
       "      <td>5.00</td>\n",
       "      <td>-314.77</td>\n",
       "      <td>109.09</td>\n",
       "      <td>0</td>\n",
       "      <td>105.14</td>\n",
       "      <td>3334.77</td>\n",
       "      <td>564.09</td>\n",
       "      <td>2910.91</td>\n",
       "      <td>300.00</td>\n",
       "    </tr>\n",
       "  </tbody>\n",
       "</table>\n",
       "</div>"
      ],
      "text/plain": [
       "   Positive Value  IFOOD TOTAL  Agua Serviço Gasto  WITH-OTHER-PEOPLE TOTAL  \\\n",
       "0            3020           46               44.45                    386.7   \n",
       "1            3020           57               44.45                    201.0   \n",
       "\n",
       "   Extra Groceries 🥫 TOTAL  Final Maximum  Final Minimum  Rancho  \\\n",
       "0                    56.57         464.23         600.91       0   \n",
       "1                     5.00        -314.77         109.09       0   \n",
       "\n",
       "   TRANSPORTE TOTAL  Maximum Expense  Current  Minimum Expense  Beleza TOTAL  \n",
       "0            164.46          2555.77   600.91          2419.09        301.59  \n",
       "1            105.14          3334.77   564.09          2910.91        300.00  "
      ]
     },
     "execution_count": 7,
     "metadata": {},
     "output_type": "execute_result"
    }
   ],
   "source": [
    "\n",
    "historic_only_numerics = historic_cleaned_df.select_dtypes(include=['number'])\n",
    "historic_only_numerics.head()"
   ]
  },
  {
   "cell_type": "markdown",
   "metadata": {
    "id": "7ikGxLod6BeP"
   },
   "source": [
    "# Relevant Correlation\n"
   ]
  },
  {
   "cell_type": "code",
   "execution_count": 10,
   "metadata": {
    "colab": {
     "base_uri": "https://localhost:8080/",
     "height": 206
    },
    "id": "InT1zkDTbROR",
    "outputId": "c401fdf7-c834-495e-8194-963a6bb5630a"
   },
   "outputs": [
    {
     "data": {
      "text/html": [
       "<div>\n",
       "<style scoped>\n",
       "    .dataframe tbody tr th:only-of-type {\n",
       "        vertical-align: middle;\n",
       "    }\n",
       "\n",
       "    .dataframe tbody tr th {\n",
       "        vertical-align: top;\n",
       "    }\n",
       "\n",
       "    .dataframe thead th {\n",
       "        text-align: right;\n",
       "    }\n",
       "</style>\n",
       "<table border=\"1\" class=\"dataframe\">\n",
       "  <thead>\n",
       "    <tr style=\"text-align: right;\">\n",
       "      <th></th>\n",
       "      <th>IFOOD TOTAL</th>\n",
       "      <th>Agua Serviço Gasto</th>\n",
       "      <th>WITH-OTHER-PEOPLE TOTAL</th>\n",
       "      <th>Extra Groceries 🥫 TOTAL</th>\n",
       "      <th>Final Maximum</th>\n",
       "      <th>Final Minimum</th>\n",
       "      <th>Rancho</th>\n",
       "      <th>TRANSPORTE TOTAL</th>\n",
       "      <th>Maximum Expense</th>\n",
       "      <th>Current</th>\n",
       "      <th>Minimum Expense</th>\n",
       "      <th>Beleza TOTAL</th>\n",
       "    </tr>\n",
       "  </thead>\n",
       "  <tbody>\n",
       "    <tr>\n",
       "      <th>0</th>\n",
       "      <td>46</td>\n",
       "      <td>44.45</td>\n",
       "      <td>386.7</td>\n",
       "      <td>56.57</td>\n",
       "      <td>464.23</td>\n",
       "      <td>600.91</td>\n",
       "      <td>0</td>\n",
       "      <td>164.46</td>\n",
       "      <td>2555.77</td>\n",
       "      <td>600.91</td>\n",
       "      <td>2419.09</td>\n",
       "      <td>301.59</td>\n",
       "    </tr>\n",
       "    <tr>\n",
       "      <th>1</th>\n",
       "      <td>57</td>\n",
       "      <td>44.45</td>\n",
       "      <td>201.0</td>\n",
       "      <td>5.00</td>\n",
       "      <td>-314.77</td>\n",
       "      <td>109.09</td>\n",
       "      <td>0</td>\n",
       "      <td>105.14</td>\n",
       "      <td>3334.77</td>\n",
       "      <td>564.09</td>\n",
       "      <td>2910.91</td>\n",
       "      <td>300.00</td>\n",
       "    </tr>\n",
       "  </tbody>\n",
       "</table>\n",
       "</div>"
      ],
      "text/plain": [
       "   IFOOD TOTAL  Agua Serviço Gasto  WITH-OTHER-PEOPLE TOTAL  \\\n",
       "0           46               44.45                    386.7   \n",
       "1           57               44.45                    201.0   \n",
       "\n",
       "   Extra Groceries 🥫 TOTAL  Final Maximum  Final Minimum  Rancho  \\\n",
       "0                    56.57         464.23         600.91       0   \n",
       "1                     5.00        -314.77         109.09       0   \n",
       "\n",
       "   TRANSPORTE TOTAL  Maximum Expense  Current  Minimum Expense  Beleza TOTAL  \n",
       "0            164.46          2555.77   600.91          2419.09        301.59  \n",
       "1            105.14          3334.77   564.09          2910.91        300.00  "
      ]
     },
     "execution_count": 10,
     "metadata": {},
     "output_type": "execute_result"
    }
   ],
   "source": [
    "\n",
    "historic_useful_for_correlation = historic_only_numerics.drop([\n",
    "      \"Lazer Marginal\", # Derived\n",
    "      \"Uber marginal\", # Derived\n",
    "      \"Lazer Proporcional a Renda\", # Derived\n",
    "      \"festive events\", # Too little sample\n",
    "      \"Rancho Indiv.\", # Derived\n",
    "      \"roommates\", # Doesnt change\n",
    "      \"aluguel\", # irrelevant\n",
    "      \"Trabalhos\",\n",
    "      \"Pessoas\",\n",
    "      \"Positive Value\" # the only moment it changes is when rent changes\n",
    "  ], axis=1,errors='ignore')\n",
    "historic_useful_for_correlation = historic_useful_for_correlation.dropna(how=\"any\")\n",
    "historic_useful_for_correlation"
   ]
  },
  {
   "cell_type": "code",
   "execution_count": 11,
   "metadata": {
    "colab": {
     "base_uri": "https://localhost:8080/",
     "height": 542
    },
    "id": "339Ts4xWnSLG",
    "outputId": "f978deac-36d9-45e9-b2aa-dbba69325489"
   },
   "outputs": [
    {
     "data": {
      "application/vnd.plotly.v1+json": {
       "config": {
        "plotlyServerURL": "https://plot.ly"
       },
       "data": [
        {
         "colorscale": [
          [
           0,
           "#440154"
          ],
          [
           0.1111111111111111,
           "#482878"
          ],
          [
           0.2222222222222222,
           "#3e4989"
          ],
          [
           0.3333333333333333,
           "#31688e"
          ],
          [
           0.4444444444444444,
           "#26828e"
          ],
          [
           0.5555555555555556,
           "#1f9e89"
          ],
          [
           0.6666666666666666,
           "#35b779"
          ],
          [
           0.7777777777777778,
           "#6ece58"
          ],
          [
           0.8888888888888888,
           "#b5de2b"
          ],
          [
           1,
           "#fde725"
          ]
         ],
         "hoverinfo": "z",
         "reversescale": false,
         "showscale": false,
         "type": "heatmap",
         "x": [
          "IFOOD TOTAL",
          "Agua Serviço Gasto",
          "WITH-OTHER-PEOPLE TOTAL",
          "Extra Groceries 🥫 TOTAL",
          "Final Maximum",
          "Final Minimum",
          "Rancho",
          "TRANSPORTE TOTAL",
          "Maximum Expense",
          "Current",
          "Minimum Expense",
          "Beleza TOTAL"
         ],
         "y": [
          "IFOOD TOTAL",
          "Agua Serviço Gasto",
          "WITH-OTHER-PEOPLE TOTAL",
          "Extra Groceries 🥫 TOTAL",
          "Final Maximum",
          "Final Minimum",
          "Rancho",
          "TRANSPORTE TOTAL",
          "Maximum Expense",
          "Current",
          "Minimum Expense",
          "Beleza TOTAL"
         ],
         "z": [
          [
           1,
           null,
           -1.0000000000000002,
           -1,
           -1,
           -1.0000000000000002,
           null,
           -1,
           1,
           -0.9999999999999999,
           1,
           -0.9999999999999821
          ],
          [
           null,
           null,
           null,
           null,
           null,
           null,
           null,
           null,
           null,
           null,
           null,
           null
          ],
          [
           -1.0000000000000002,
           null,
           1,
           0.9999999999999998,
           0.9999999999999998,
           1,
           null,
           1,
           -0.9999999999999998,
           0.9999999999999999,
           -0.9999999999999999,
           0.9999999999999821
          ],
          [
           -1,
           null,
           0.9999999999999998,
           1,
           1,
           1,
           null,
           1.0000000000000002,
           -1,
           1,
           -1,
           0.9999999999999821
          ],
          [
           -1,
           null,
           0.9999999999999998,
           1,
           1,
           1.0000000000000002,
           null,
           1,
           -1,
           1,
           -1.0000000000000002,
           0.999999999999982
          ],
          [
           -1.0000000000000002,
           null,
           1,
           1,
           1.0000000000000002,
           1,
           null,
           1.0000000000000002,
           -1.0000000000000002,
           1,
           -1.0000000000000002,
           0.999999999999982
          ],
          [
           null,
           null,
           null,
           null,
           null,
           null,
           null,
           null,
           null,
           null,
           null,
           null
          ],
          [
           -1,
           null,
           1,
           1.0000000000000002,
           1,
           1.0000000000000002,
           null,
           1,
           -0.9999999999999999,
           1,
           -0.9999999999999999,
           0.9999999999999819
          ],
          [
           1,
           null,
           -0.9999999999999998,
           -1,
           -1,
           -1.0000000000000002,
           null,
           -0.9999999999999999,
           1,
           -1,
           1.0000000000000002,
           -0.999999999999982
          ],
          [
           -0.9999999999999999,
           null,
           0.9999999999999999,
           1,
           1,
           1,
           null,
           1,
           -1,
           1,
           -0.9999999999999998,
           0.9999999999999821
          ],
          [
           1,
           null,
           -0.9999999999999999,
           -1,
           -1.0000000000000002,
           -1.0000000000000002,
           null,
           -0.9999999999999999,
           1.0000000000000002,
           -0.9999999999999998,
           1,
           -0.9999999999999821
          ],
          [
           -0.9999999999999821,
           null,
           0.9999999999999821,
           0.9999999999999821,
           0.999999999999982,
           0.999999999999982,
           null,
           0.9999999999999819,
           -0.999999999999982,
           0.9999999999999821,
           -0.9999999999999821,
           1
          ]
         ]
        }
       ],
       "layout": {
        "annotations": [
         {
          "font": {
           "color": "#000000"
          },
          "showarrow": false,
          "text": "1.0",
          "x": "IFOOD TOTAL",
          "xref": "x",
          "y": "IFOOD TOTAL",
          "yref": "y"
         },
         {
          "font": {
           "color": "#000000"
          },
          "showarrow": false,
          "text": "nan",
          "x": "Agua Serviço Gasto",
          "xref": "x",
          "y": "IFOOD TOTAL",
          "yref": "y"
         },
         {
          "font": {
           "color": "#000000"
          },
          "showarrow": false,
          "text": "-1.0",
          "x": "WITH-OTHER-PEOPLE TOTAL",
          "xref": "x",
          "y": "IFOOD TOTAL",
          "yref": "y"
         },
         {
          "font": {
           "color": "#000000"
          },
          "showarrow": false,
          "text": "-1.0",
          "x": "Extra Groceries 🥫 TOTAL",
          "xref": "x",
          "y": "IFOOD TOTAL",
          "yref": "y"
         },
         {
          "font": {
           "color": "#000000"
          },
          "showarrow": false,
          "text": "-1.0",
          "x": "Final Maximum",
          "xref": "x",
          "y": "IFOOD TOTAL",
          "yref": "y"
         },
         {
          "font": {
           "color": "#000000"
          },
          "showarrow": false,
          "text": "-1.0",
          "x": "Final Minimum",
          "xref": "x",
          "y": "IFOOD TOTAL",
          "yref": "y"
         },
         {
          "font": {
           "color": "#000000"
          },
          "showarrow": false,
          "text": "nan",
          "x": "Rancho",
          "xref": "x",
          "y": "IFOOD TOTAL",
          "yref": "y"
         },
         {
          "font": {
           "color": "#000000"
          },
          "showarrow": false,
          "text": "-1.0",
          "x": "TRANSPORTE TOTAL",
          "xref": "x",
          "y": "IFOOD TOTAL",
          "yref": "y"
         },
         {
          "font": {
           "color": "#000000"
          },
          "showarrow": false,
          "text": "1.0",
          "x": "Maximum Expense",
          "xref": "x",
          "y": "IFOOD TOTAL",
          "yref": "y"
         },
         {
          "font": {
           "color": "#000000"
          },
          "showarrow": false,
          "text": "-1.0",
          "x": "Current",
          "xref": "x",
          "y": "IFOOD TOTAL",
          "yref": "y"
         },
         {
          "font": {
           "color": "#000000"
          },
          "showarrow": false,
          "text": "1.0",
          "x": "Minimum Expense",
          "xref": "x",
          "y": "IFOOD TOTAL",
          "yref": "y"
         },
         {
          "font": {
           "color": "#000000"
          },
          "showarrow": false,
          "text": "-1.0",
          "x": "Beleza TOTAL",
          "xref": "x",
          "y": "IFOOD TOTAL",
          "yref": "y"
         },
         {
          "font": {
           "color": "#000000"
          },
          "showarrow": false,
          "text": "nan",
          "x": "IFOOD TOTAL",
          "xref": "x",
          "y": "Agua Serviço Gasto",
          "yref": "y"
         },
         {
          "font": {
           "color": "#000000"
          },
          "showarrow": false,
          "text": "nan",
          "x": "Agua Serviço Gasto",
          "xref": "x",
          "y": "Agua Serviço Gasto",
          "yref": "y"
         },
         {
          "font": {
           "color": "#000000"
          },
          "showarrow": false,
          "text": "nan",
          "x": "WITH-OTHER-PEOPLE TOTAL",
          "xref": "x",
          "y": "Agua Serviço Gasto",
          "yref": "y"
         },
         {
          "font": {
           "color": "#000000"
          },
          "showarrow": false,
          "text": "nan",
          "x": "Extra Groceries 🥫 TOTAL",
          "xref": "x",
          "y": "Agua Serviço Gasto",
          "yref": "y"
         },
         {
          "font": {
           "color": "#000000"
          },
          "showarrow": false,
          "text": "nan",
          "x": "Final Maximum",
          "xref": "x",
          "y": "Agua Serviço Gasto",
          "yref": "y"
         },
         {
          "font": {
           "color": "#000000"
          },
          "showarrow": false,
          "text": "nan",
          "x": "Final Minimum",
          "xref": "x",
          "y": "Agua Serviço Gasto",
          "yref": "y"
         },
         {
          "font": {
           "color": "#000000"
          },
          "showarrow": false,
          "text": "nan",
          "x": "Rancho",
          "xref": "x",
          "y": "Agua Serviço Gasto",
          "yref": "y"
         },
         {
          "font": {
           "color": "#000000"
          },
          "showarrow": false,
          "text": "nan",
          "x": "TRANSPORTE TOTAL",
          "xref": "x",
          "y": "Agua Serviço Gasto",
          "yref": "y"
         },
         {
          "font": {
           "color": "#000000"
          },
          "showarrow": false,
          "text": "nan",
          "x": "Maximum Expense",
          "xref": "x",
          "y": "Agua Serviço Gasto",
          "yref": "y"
         },
         {
          "font": {
           "color": "#000000"
          },
          "showarrow": false,
          "text": "nan",
          "x": "Current",
          "xref": "x",
          "y": "Agua Serviço Gasto",
          "yref": "y"
         },
         {
          "font": {
           "color": "#000000"
          },
          "showarrow": false,
          "text": "nan",
          "x": "Minimum Expense",
          "xref": "x",
          "y": "Agua Serviço Gasto",
          "yref": "y"
         },
         {
          "font": {
           "color": "#000000"
          },
          "showarrow": false,
          "text": "nan",
          "x": "Beleza TOTAL",
          "xref": "x",
          "y": "Agua Serviço Gasto",
          "yref": "y"
         },
         {
          "font": {
           "color": "#000000"
          },
          "showarrow": false,
          "text": "-1.0",
          "x": "IFOOD TOTAL",
          "xref": "x",
          "y": "WITH-OTHER-PEOPLE TOTAL",
          "yref": "y"
         },
         {
          "font": {
           "color": "#000000"
          },
          "showarrow": false,
          "text": "nan",
          "x": "Agua Serviço Gasto",
          "xref": "x",
          "y": "WITH-OTHER-PEOPLE TOTAL",
          "yref": "y"
         },
         {
          "font": {
           "color": "#000000"
          },
          "showarrow": false,
          "text": "1.0",
          "x": "WITH-OTHER-PEOPLE TOTAL",
          "xref": "x",
          "y": "WITH-OTHER-PEOPLE TOTAL",
          "yref": "y"
         },
         {
          "font": {
           "color": "#000000"
          },
          "showarrow": false,
          "text": "1.0",
          "x": "Extra Groceries 🥫 TOTAL",
          "xref": "x",
          "y": "WITH-OTHER-PEOPLE TOTAL",
          "yref": "y"
         },
         {
          "font": {
           "color": "#000000"
          },
          "showarrow": false,
          "text": "1.0",
          "x": "Final Maximum",
          "xref": "x",
          "y": "WITH-OTHER-PEOPLE TOTAL",
          "yref": "y"
         },
         {
          "font": {
           "color": "#000000"
          },
          "showarrow": false,
          "text": "1.0",
          "x": "Final Minimum",
          "xref": "x",
          "y": "WITH-OTHER-PEOPLE TOTAL",
          "yref": "y"
         },
         {
          "font": {
           "color": "#000000"
          },
          "showarrow": false,
          "text": "nan",
          "x": "Rancho",
          "xref": "x",
          "y": "WITH-OTHER-PEOPLE TOTAL",
          "yref": "y"
         },
         {
          "font": {
           "color": "#000000"
          },
          "showarrow": false,
          "text": "1.0",
          "x": "TRANSPORTE TOTAL",
          "xref": "x",
          "y": "WITH-OTHER-PEOPLE TOTAL",
          "yref": "y"
         },
         {
          "font": {
           "color": "#000000"
          },
          "showarrow": false,
          "text": "-1.0",
          "x": "Maximum Expense",
          "xref": "x",
          "y": "WITH-OTHER-PEOPLE TOTAL",
          "yref": "y"
         },
         {
          "font": {
           "color": "#000000"
          },
          "showarrow": false,
          "text": "1.0",
          "x": "Current",
          "xref": "x",
          "y": "WITH-OTHER-PEOPLE TOTAL",
          "yref": "y"
         },
         {
          "font": {
           "color": "#000000"
          },
          "showarrow": false,
          "text": "-1.0",
          "x": "Minimum Expense",
          "xref": "x",
          "y": "WITH-OTHER-PEOPLE TOTAL",
          "yref": "y"
         },
         {
          "font": {
           "color": "#000000"
          },
          "showarrow": false,
          "text": "1.0",
          "x": "Beleza TOTAL",
          "xref": "x",
          "y": "WITH-OTHER-PEOPLE TOTAL",
          "yref": "y"
         },
         {
          "font": {
           "color": "#000000"
          },
          "showarrow": false,
          "text": "-1.0",
          "x": "IFOOD TOTAL",
          "xref": "x",
          "y": "Extra Groceries 🥫 TOTAL",
          "yref": "y"
         },
         {
          "font": {
           "color": "#000000"
          },
          "showarrow": false,
          "text": "nan",
          "x": "Agua Serviço Gasto",
          "xref": "x",
          "y": "Extra Groceries 🥫 TOTAL",
          "yref": "y"
         },
         {
          "font": {
           "color": "#000000"
          },
          "showarrow": false,
          "text": "1.0",
          "x": "WITH-OTHER-PEOPLE TOTAL",
          "xref": "x",
          "y": "Extra Groceries 🥫 TOTAL",
          "yref": "y"
         },
         {
          "font": {
           "color": "#000000"
          },
          "showarrow": false,
          "text": "1.0",
          "x": "Extra Groceries 🥫 TOTAL",
          "xref": "x",
          "y": "Extra Groceries 🥫 TOTAL",
          "yref": "y"
         },
         {
          "font": {
           "color": "#000000"
          },
          "showarrow": false,
          "text": "1.0",
          "x": "Final Maximum",
          "xref": "x",
          "y": "Extra Groceries 🥫 TOTAL",
          "yref": "y"
         },
         {
          "font": {
           "color": "#000000"
          },
          "showarrow": false,
          "text": "1.0",
          "x": "Final Minimum",
          "xref": "x",
          "y": "Extra Groceries 🥫 TOTAL",
          "yref": "y"
         },
         {
          "font": {
           "color": "#000000"
          },
          "showarrow": false,
          "text": "nan",
          "x": "Rancho",
          "xref": "x",
          "y": "Extra Groceries 🥫 TOTAL",
          "yref": "y"
         },
         {
          "font": {
           "color": "#000000"
          },
          "showarrow": false,
          "text": "1.0",
          "x": "TRANSPORTE TOTAL",
          "xref": "x",
          "y": "Extra Groceries 🥫 TOTAL",
          "yref": "y"
         },
         {
          "font": {
           "color": "#000000"
          },
          "showarrow": false,
          "text": "-1.0",
          "x": "Maximum Expense",
          "xref": "x",
          "y": "Extra Groceries 🥫 TOTAL",
          "yref": "y"
         },
         {
          "font": {
           "color": "#000000"
          },
          "showarrow": false,
          "text": "1.0",
          "x": "Current",
          "xref": "x",
          "y": "Extra Groceries 🥫 TOTAL",
          "yref": "y"
         },
         {
          "font": {
           "color": "#000000"
          },
          "showarrow": false,
          "text": "-1.0",
          "x": "Minimum Expense",
          "xref": "x",
          "y": "Extra Groceries 🥫 TOTAL",
          "yref": "y"
         },
         {
          "font": {
           "color": "#000000"
          },
          "showarrow": false,
          "text": "1.0",
          "x": "Beleza TOTAL",
          "xref": "x",
          "y": "Extra Groceries 🥫 TOTAL",
          "yref": "y"
         },
         {
          "font": {
           "color": "#000000"
          },
          "showarrow": false,
          "text": "-1.0",
          "x": "IFOOD TOTAL",
          "xref": "x",
          "y": "Final Maximum",
          "yref": "y"
         },
         {
          "font": {
           "color": "#000000"
          },
          "showarrow": false,
          "text": "nan",
          "x": "Agua Serviço Gasto",
          "xref": "x",
          "y": "Final Maximum",
          "yref": "y"
         },
         {
          "font": {
           "color": "#000000"
          },
          "showarrow": false,
          "text": "1.0",
          "x": "WITH-OTHER-PEOPLE TOTAL",
          "xref": "x",
          "y": "Final Maximum",
          "yref": "y"
         },
         {
          "font": {
           "color": "#000000"
          },
          "showarrow": false,
          "text": "1.0",
          "x": "Extra Groceries 🥫 TOTAL",
          "xref": "x",
          "y": "Final Maximum",
          "yref": "y"
         },
         {
          "font": {
           "color": "#000000"
          },
          "showarrow": false,
          "text": "1.0",
          "x": "Final Maximum",
          "xref": "x",
          "y": "Final Maximum",
          "yref": "y"
         },
         {
          "font": {
           "color": "#000000"
          },
          "showarrow": false,
          "text": "1.0",
          "x": "Final Minimum",
          "xref": "x",
          "y": "Final Maximum",
          "yref": "y"
         },
         {
          "font": {
           "color": "#000000"
          },
          "showarrow": false,
          "text": "nan",
          "x": "Rancho",
          "xref": "x",
          "y": "Final Maximum",
          "yref": "y"
         },
         {
          "font": {
           "color": "#000000"
          },
          "showarrow": false,
          "text": "1.0",
          "x": "TRANSPORTE TOTAL",
          "xref": "x",
          "y": "Final Maximum",
          "yref": "y"
         },
         {
          "font": {
           "color": "#000000"
          },
          "showarrow": false,
          "text": "-1.0",
          "x": "Maximum Expense",
          "xref": "x",
          "y": "Final Maximum",
          "yref": "y"
         },
         {
          "font": {
           "color": "#000000"
          },
          "showarrow": false,
          "text": "1.0",
          "x": "Current",
          "xref": "x",
          "y": "Final Maximum",
          "yref": "y"
         },
         {
          "font": {
           "color": "#000000"
          },
          "showarrow": false,
          "text": "-1.0",
          "x": "Minimum Expense",
          "xref": "x",
          "y": "Final Maximum",
          "yref": "y"
         },
         {
          "font": {
           "color": "#000000"
          },
          "showarrow": false,
          "text": "1.0",
          "x": "Beleza TOTAL",
          "xref": "x",
          "y": "Final Maximum",
          "yref": "y"
         },
         {
          "font": {
           "color": "#000000"
          },
          "showarrow": false,
          "text": "-1.0",
          "x": "IFOOD TOTAL",
          "xref": "x",
          "y": "Final Minimum",
          "yref": "y"
         },
         {
          "font": {
           "color": "#000000"
          },
          "showarrow": false,
          "text": "nan",
          "x": "Agua Serviço Gasto",
          "xref": "x",
          "y": "Final Minimum",
          "yref": "y"
         },
         {
          "font": {
           "color": "#000000"
          },
          "showarrow": false,
          "text": "1.0",
          "x": "WITH-OTHER-PEOPLE TOTAL",
          "xref": "x",
          "y": "Final Minimum",
          "yref": "y"
         },
         {
          "font": {
           "color": "#000000"
          },
          "showarrow": false,
          "text": "1.0",
          "x": "Extra Groceries 🥫 TOTAL",
          "xref": "x",
          "y": "Final Minimum",
          "yref": "y"
         },
         {
          "font": {
           "color": "#000000"
          },
          "showarrow": false,
          "text": "1.0",
          "x": "Final Maximum",
          "xref": "x",
          "y": "Final Minimum",
          "yref": "y"
         },
         {
          "font": {
           "color": "#000000"
          },
          "showarrow": false,
          "text": "1.0",
          "x": "Final Minimum",
          "xref": "x",
          "y": "Final Minimum",
          "yref": "y"
         },
         {
          "font": {
           "color": "#000000"
          },
          "showarrow": false,
          "text": "nan",
          "x": "Rancho",
          "xref": "x",
          "y": "Final Minimum",
          "yref": "y"
         },
         {
          "font": {
           "color": "#000000"
          },
          "showarrow": false,
          "text": "1.0",
          "x": "TRANSPORTE TOTAL",
          "xref": "x",
          "y": "Final Minimum",
          "yref": "y"
         },
         {
          "font": {
           "color": "#000000"
          },
          "showarrow": false,
          "text": "-1.0",
          "x": "Maximum Expense",
          "xref": "x",
          "y": "Final Minimum",
          "yref": "y"
         },
         {
          "font": {
           "color": "#000000"
          },
          "showarrow": false,
          "text": "1.0",
          "x": "Current",
          "xref": "x",
          "y": "Final Minimum",
          "yref": "y"
         },
         {
          "font": {
           "color": "#000000"
          },
          "showarrow": false,
          "text": "-1.0",
          "x": "Minimum Expense",
          "xref": "x",
          "y": "Final Minimum",
          "yref": "y"
         },
         {
          "font": {
           "color": "#000000"
          },
          "showarrow": false,
          "text": "1.0",
          "x": "Beleza TOTAL",
          "xref": "x",
          "y": "Final Minimum",
          "yref": "y"
         },
         {
          "font": {
           "color": "#000000"
          },
          "showarrow": false,
          "text": "nan",
          "x": "IFOOD TOTAL",
          "xref": "x",
          "y": "Rancho",
          "yref": "y"
         },
         {
          "font": {
           "color": "#000000"
          },
          "showarrow": false,
          "text": "nan",
          "x": "Agua Serviço Gasto",
          "xref": "x",
          "y": "Rancho",
          "yref": "y"
         },
         {
          "font": {
           "color": "#000000"
          },
          "showarrow": false,
          "text": "nan",
          "x": "WITH-OTHER-PEOPLE TOTAL",
          "xref": "x",
          "y": "Rancho",
          "yref": "y"
         },
         {
          "font": {
           "color": "#000000"
          },
          "showarrow": false,
          "text": "nan",
          "x": "Extra Groceries 🥫 TOTAL",
          "xref": "x",
          "y": "Rancho",
          "yref": "y"
         },
         {
          "font": {
           "color": "#000000"
          },
          "showarrow": false,
          "text": "nan",
          "x": "Final Maximum",
          "xref": "x",
          "y": "Rancho",
          "yref": "y"
         },
         {
          "font": {
           "color": "#000000"
          },
          "showarrow": false,
          "text": "nan",
          "x": "Final Minimum",
          "xref": "x",
          "y": "Rancho",
          "yref": "y"
         },
         {
          "font": {
           "color": "#000000"
          },
          "showarrow": false,
          "text": "nan",
          "x": "Rancho",
          "xref": "x",
          "y": "Rancho",
          "yref": "y"
         },
         {
          "font": {
           "color": "#000000"
          },
          "showarrow": false,
          "text": "nan",
          "x": "TRANSPORTE TOTAL",
          "xref": "x",
          "y": "Rancho",
          "yref": "y"
         },
         {
          "font": {
           "color": "#000000"
          },
          "showarrow": false,
          "text": "nan",
          "x": "Maximum Expense",
          "xref": "x",
          "y": "Rancho",
          "yref": "y"
         },
         {
          "font": {
           "color": "#000000"
          },
          "showarrow": false,
          "text": "nan",
          "x": "Current",
          "xref": "x",
          "y": "Rancho",
          "yref": "y"
         },
         {
          "font": {
           "color": "#000000"
          },
          "showarrow": false,
          "text": "nan",
          "x": "Minimum Expense",
          "xref": "x",
          "y": "Rancho",
          "yref": "y"
         },
         {
          "font": {
           "color": "#000000"
          },
          "showarrow": false,
          "text": "nan",
          "x": "Beleza TOTAL",
          "xref": "x",
          "y": "Rancho",
          "yref": "y"
         },
         {
          "font": {
           "color": "#000000"
          },
          "showarrow": false,
          "text": "-1.0",
          "x": "IFOOD TOTAL",
          "xref": "x",
          "y": "TRANSPORTE TOTAL",
          "yref": "y"
         },
         {
          "font": {
           "color": "#000000"
          },
          "showarrow": false,
          "text": "nan",
          "x": "Agua Serviço Gasto",
          "xref": "x",
          "y": "TRANSPORTE TOTAL",
          "yref": "y"
         },
         {
          "font": {
           "color": "#000000"
          },
          "showarrow": false,
          "text": "1.0",
          "x": "WITH-OTHER-PEOPLE TOTAL",
          "xref": "x",
          "y": "TRANSPORTE TOTAL",
          "yref": "y"
         },
         {
          "font": {
           "color": "#000000"
          },
          "showarrow": false,
          "text": "1.0",
          "x": "Extra Groceries 🥫 TOTAL",
          "xref": "x",
          "y": "TRANSPORTE TOTAL",
          "yref": "y"
         },
         {
          "font": {
           "color": "#000000"
          },
          "showarrow": false,
          "text": "1.0",
          "x": "Final Maximum",
          "xref": "x",
          "y": "TRANSPORTE TOTAL",
          "yref": "y"
         },
         {
          "font": {
           "color": "#000000"
          },
          "showarrow": false,
          "text": "1.0",
          "x": "Final Minimum",
          "xref": "x",
          "y": "TRANSPORTE TOTAL",
          "yref": "y"
         },
         {
          "font": {
           "color": "#000000"
          },
          "showarrow": false,
          "text": "nan",
          "x": "Rancho",
          "xref": "x",
          "y": "TRANSPORTE TOTAL",
          "yref": "y"
         },
         {
          "font": {
           "color": "#000000"
          },
          "showarrow": false,
          "text": "1.0",
          "x": "TRANSPORTE TOTAL",
          "xref": "x",
          "y": "TRANSPORTE TOTAL",
          "yref": "y"
         },
         {
          "font": {
           "color": "#000000"
          },
          "showarrow": false,
          "text": "-1.0",
          "x": "Maximum Expense",
          "xref": "x",
          "y": "TRANSPORTE TOTAL",
          "yref": "y"
         },
         {
          "font": {
           "color": "#000000"
          },
          "showarrow": false,
          "text": "1.0",
          "x": "Current",
          "xref": "x",
          "y": "TRANSPORTE TOTAL",
          "yref": "y"
         },
         {
          "font": {
           "color": "#000000"
          },
          "showarrow": false,
          "text": "-1.0",
          "x": "Minimum Expense",
          "xref": "x",
          "y": "TRANSPORTE TOTAL",
          "yref": "y"
         },
         {
          "font": {
           "color": "#000000"
          },
          "showarrow": false,
          "text": "1.0",
          "x": "Beleza TOTAL",
          "xref": "x",
          "y": "TRANSPORTE TOTAL",
          "yref": "y"
         },
         {
          "font": {
           "color": "#000000"
          },
          "showarrow": false,
          "text": "1.0",
          "x": "IFOOD TOTAL",
          "xref": "x",
          "y": "Maximum Expense",
          "yref": "y"
         },
         {
          "font": {
           "color": "#000000"
          },
          "showarrow": false,
          "text": "nan",
          "x": "Agua Serviço Gasto",
          "xref": "x",
          "y": "Maximum Expense",
          "yref": "y"
         },
         {
          "font": {
           "color": "#000000"
          },
          "showarrow": false,
          "text": "-1.0",
          "x": "WITH-OTHER-PEOPLE TOTAL",
          "xref": "x",
          "y": "Maximum Expense",
          "yref": "y"
         },
         {
          "font": {
           "color": "#000000"
          },
          "showarrow": false,
          "text": "-1.0",
          "x": "Extra Groceries 🥫 TOTAL",
          "xref": "x",
          "y": "Maximum Expense",
          "yref": "y"
         },
         {
          "font": {
           "color": "#000000"
          },
          "showarrow": false,
          "text": "-1.0",
          "x": "Final Maximum",
          "xref": "x",
          "y": "Maximum Expense",
          "yref": "y"
         },
         {
          "font": {
           "color": "#000000"
          },
          "showarrow": false,
          "text": "-1.0",
          "x": "Final Minimum",
          "xref": "x",
          "y": "Maximum Expense",
          "yref": "y"
         },
         {
          "font": {
           "color": "#000000"
          },
          "showarrow": false,
          "text": "nan",
          "x": "Rancho",
          "xref": "x",
          "y": "Maximum Expense",
          "yref": "y"
         },
         {
          "font": {
           "color": "#000000"
          },
          "showarrow": false,
          "text": "-1.0",
          "x": "TRANSPORTE TOTAL",
          "xref": "x",
          "y": "Maximum Expense",
          "yref": "y"
         },
         {
          "font": {
           "color": "#000000"
          },
          "showarrow": false,
          "text": "1.0",
          "x": "Maximum Expense",
          "xref": "x",
          "y": "Maximum Expense",
          "yref": "y"
         },
         {
          "font": {
           "color": "#000000"
          },
          "showarrow": false,
          "text": "-1.0",
          "x": "Current",
          "xref": "x",
          "y": "Maximum Expense",
          "yref": "y"
         },
         {
          "font": {
           "color": "#000000"
          },
          "showarrow": false,
          "text": "1.0",
          "x": "Minimum Expense",
          "xref": "x",
          "y": "Maximum Expense",
          "yref": "y"
         },
         {
          "font": {
           "color": "#000000"
          },
          "showarrow": false,
          "text": "-1.0",
          "x": "Beleza TOTAL",
          "xref": "x",
          "y": "Maximum Expense",
          "yref": "y"
         },
         {
          "font": {
           "color": "#000000"
          },
          "showarrow": false,
          "text": "-1.0",
          "x": "IFOOD TOTAL",
          "xref": "x",
          "y": "Current",
          "yref": "y"
         },
         {
          "font": {
           "color": "#000000"
          },
          "showarrow": false,
          "text": "nan",
          "x": "Agua Serviço Gasto",
          "xref": "x",
          "y": "Current",
          "yref": "y"
         },
         {
          "font": {
           "color": "#000000"
          },
          "showarrow": false,
          "text": "1.0",
          "x": "WITH-OTHER-PEOPLE TOTAL",
          "xref": "x",
          "y": "Current",
          "yref": "y"
         },
         {
          "font": {
           "color": "#000000"
          },
          "showarrow": false,
          "text": "1.0",
          "x": "Extra Groceries 🥫 TOTAL",
          "xref": "x",
          "y": "Current",
          "yref": "y"
         },
         {
          "font": {
           "color": "#000000"
          },
          "showarrow": false,
          "text": "1.0",
          "x": "Final Maximum",
          "xref": "x",
          "y": "Current",
          "yref": "y"
         },
         {
          "font": {
           "color": "#000000"
          },
          "showarrow": false,
          "text": "1.0",
          "x": "Final Minimum",
          "xref": "x",
          "y": "Current",
          "yref": "y"
         },
         {
          "font": {
           "color": "#000000"
          },
          "showarrow": false,
          "text": "nan",
          "x": "Rancho",
          "xref": "x",
          "y": "Current",
          "yref": "y"
         },
         {
          "font": {
           "color": "#000000"
          },
          "showarrow": false,
          "text": "1.0",
          "x": "TRANSPORTE TOTAL",
          "xref": "x",
          "y": "Current",
          "yref": "y"
         },
         {
          "font": {
           "color": "#000000"
          },
          "showarrow": false,
          "text": "-1.0",
          "x": "Maximum Expense",
          "xref": "x",
          "y": "Current",
          "yref": "y"
         },
         {
          "font": {
           "color": "#000000"
          },
          "showarrow": false,
          "text": "1.0",
          "x": "Current",
          "xref": "x",
          "y": "Current",
          "yref": "y"
         },
         {
          "font": {
           "color": "#000000"
          },
          "showarrow": false,
          "text": "-1.0",
          "x": "Minimum Expense",
          "xref": "x",
          "y": "Current",
          "yref": "y"
         },
         {
          "font": {
           "color": "#000000"
          },
          "showarrow": false,
          "text": "1.0",
          "x": "Beleza TOTAL",
          "xref": "x",
          "y": "Current",
          "yref": "y"
         },
         {
          "font": {
           "color": "#000000"
          },
          "showarrow": false,
          "text": "1.0",
          "x": "IFOOD TOTAL",
          "xref": "x",
          "y": "Minimum Expense",
          "yref": "y"
         },
         {
          "font": {
           "color": "#000000"
          },
          "showarrow": false,
          "text": "nan",
          "x": "Agua Serviço Gasto",
          "xref": "x",
          "y": "Minimum Expense",
          "yref": "y"
         },
         {
          "font": {
           "color": "#000000"
          },
          "showarrow": false,
          "text": "-1.0",
          "x": "WITH-OTHER-PEOPLE TOTAL",
          "xref": "x",
          "y": "Minimum Expense",
          "yref": "y"
         },
         {
          "font": {
           "color": "#000000"
          },
          "showarrow": false,
          "text": "-1.0",
          "x": "Extra Groceries 🥫 TOTAL",
          "xref": "x",
          "y": "Minimum Expense",
          "yref": "y"
         },
         {
          "font": {
           "color": "#000000"
          },
          "showarrow": false,
          "text": "-1.0",
          "x": "Final Maximum",
          "xref": "x",
          "y": "Minimum Expense",
          "yref": "y"
         },
         {
          "font": {
           "color": "#000000"
          },
          "showarrow": false,
          "text": "-1.0",
          "x": "Final Minimum",
          "xref": "x",
          "y": "Minimum Expense",
          "yref": "y"
         },
         {
          "font": {
           "color": "#000000"
          },
          "showarrow": false,
          "text": "nan",
          "x": "Rancho",
          "xref": "x",
          "y": "Minimum Expense",
          "yref": "y"
         },
         {
          "font": {
           "color": "#000000"
          },
          "showarrow": false,
          "text": "-1.0",
          "x": "TRANSPORTE TOTAL",
          "xref": "x",
          "y": "Minimum Expense",
          "yref": "y"
         },
         {
          "font": {
           "color": "#000000"
          },
          "showarrow": false,
          "text": "1.0",
          "x": "Maximum Expense",
          "xref": "x",
          "y": "Minimum Expense",
          "yref": "y"
         },
         {
          "font": {
           "color": "#000000"
          },
          "showarrow": false,
          "text": "-1.0",
          "x": "Current",
          "xref": "x",
          "y": "Minimum Expense",
          "yref": "y"
         },
         {
          "font": {
           "color": "#000000"
          },
          "showarrow": false,
          "text": "1.0",
          "x": "Minimum Expense",
          "xref": "x",
          "y": "Minimum Expense",
          "yref": "y"
         },
         {
          "font": {
           "color": "#000000"
          },
          "showarrow": false,
          "text": "-1.0",
          "x": "Beleza TOTAL",
          "xref": "x",
          "y": "Minimum Expense",
          "yref": "y"
         },
         {
          "font": {
           "color": "#000000"
          },
          "showarrow": false,
          "text": "-1.0",
          "x": "IFOOD TOTAL",
          "xref": "x",
          "y": "Beleza TOTAL",
          "yref": "y"
         },
         {
          "font": {
           "color": "#000000"
          },
          "showarrow": false,
          "text": "nan",
          "x": "Agua Serviço Gasto",
          "xref": "x",
          "y": "Beleza TOTAL",
          "yref": "y"
         },
         {
          "font": {
           "color": "#000000"
          },
          "showarrow": false,
          "text": "1.0",
          "x": "WITH-OTHER-PEOPLE TOTAL",
          "xref": "x",
          "y": "Beleza TOTAL",
          "yref": "y"
         },
         {
          "font": {
           "color": "#000000"
          },
          "showarrow": false,
          "text": "1.0",
          "x": "Extra Groceries 🥫 TOTAL",
          "xref": "x",
          "y": "Beleza TOTAL",
          "yref": "y"
         },
         {
          "font": {
           "color": "#000000"
          },
          "showarrow": false,
          "text": "1.0",
          "x": "Final Maximum",
          "xref": "x",
          "y": "Beleza TOTAL",
          "yref": "y"
         },
         {
          "font": {
           "color": "#000000"
          },
          "showarrow": false,
          "text": "1.0",
          "x": "Final Minimum",
          "xref": "x",
          "y": "Beleza TOTAL",
          "yref": "y"
         },
         {
          "font": {
           "color": "#000000"
          },
          "showarrow": false,
          "text": "nan",
          "x": "Rancho",
          "xref": "x",
          "y": "Beleza TOTAL",
          "yref": "y"
         },
         {
          "font": {
           "color": "#000000"
          },
          "showarrow": false,
          "text": "1.0",
          "x": "TRANSPORTE TOTAL",
          "xref": "x",
          "y": "Beleza TOTAL",
          "yref": "y"
         },
         {
          "font": {
           "color": "#000000"
          },
          "showarrow": false,
          "text": "-1.0",
          "x": "Maximum Expense",
          "xref": "x",
          "y": "Beleza TOTAL",
          "yref": "y"
         },
         {
          "font": {
           "color": "#000000"
          },
          "showarrow": false,
          "text": "1.0",
          "x": "Current",
          "xref": "x",
          "y": "Beleza TOTAL",
          "yref": "y"
         },
         {
          "font": {
           "color": "#000000"
          },
          "showarrow": false,
          "text": "-1.0",
          "x": "Minimum Expense",
          "xref": "x",
          "y": "Beleza TOTAL",
          "yref": "y"
         },
         {
          "font": {
           "color": "#000000"
          },
          "showarrow": false,
          "text": "1.0",
          "x": "Beleza TOTAL",
          "xref": "x",
          "y": "Beleza TOTAL",
          "yref": "y"
         }
        ],
        "template": {
         "data": {
          "bar": [
           {
            "error_x": {
             "color": "#2a3f5f"
            },
            "error_y": {
             "color": "#2a3f5f"
            },
            "marker": {
             "line": {
              "color": "#E5ECF6",
              "width": 0.5
             },
             "pattern": {
              "fillmode": "overlay",
              "size": 10,
              "solidity": 0.2
             }
            },
            "type": "bar"
           }
          ],
          "barpolar": [
           {
            "marker": {
             "line": {
              "color": "#E5ECF6",
              "width": 0.5
             },
             "pattern": {
              "fillmode": "overlay",
              "size": 10,
              "solidity": 0.2
             }
            },
            "type": "barpolar"
           }
          ],
          "carpet": [
           {
            "aaxis": {
             "endlinecolor": "#2a3f5f",
             "gridcolor": "white",
             "linecolor": "white",
             "minorgridcolor": "white",
             "startlinecolor": "#2a3f5f"
            },
            "baxis": {
             "endlinecolor": "#2a3f5f",
             "gridcolor": "white",
             "linecolor": "white",
             "minorgridcolor": "white",
             "startlinecolor": "#2a3f5f"
            },
            "type": "carpet"
           }
          ],
          "choropleth": [
           {
            "colorbar": {
             "outlinewidth": 0,
             "ticks": ""
            },
            "type": "choropleth"
           }
          ],
          "contour": [
           {
            "colorbar": {
             "outlinewidth": 0,
             "ticks": ""
            },
            "colorscale": [
             [
              0,
              "#0d0887"
             ],
             [
              0.1111111111111111,
              "#46039f"
             ],
             [
              0.2222222222222222,
              "#7201a8"
             ],
             [
              0.3333333333333333,
              "#9c179e"
             ],
             [
              0.4444444444444444,
              "#bd3786"
             ],
             [
              0.5555555555555556,
              "#d8576b"
             ],
             [
              0.6666666666666666,
              "#ed7953"
             ],
             [
              0.7777777777777778,
              "#fb9f3a"
             ],
             [
              0.8888888888888888,
              "#fdca26"
             ],
             [
              1,
              "#f0f921"
             ]
            ],
            "type": "contour"
           }
          ],
          "contourcarpet": [
           {
            "colorbar": {
             "outlinewidth": 0,
             "ticks": ""
            },
            "type": "contourcarpet"
           }
          ],
          "heatmap": [
           {
            "colorbar": {
             "outlinewidth": 0,
             "ticks": ""
            },
            "colorscale": [
             [
              0,
              "#0d0887"
             ],
             [
              0.1111111111111111,
              "#46039f"
             ],
             [
              0.2222222222222222,
              "#7201a8"
             ],
             [
              0.3333333333333333,
              "#9c179e"
             ],
             [
              0.4444444444444444,
              "#bd3786"
             ],
             [
              0.5555555555555556,
              "#d8576b"
             ],
             [
              0.6666666666666666,
              "#ed7953"
             ],
             [
              0.7777777777777778,
              "#fb9f3a"
             ],
             [
              0.8888888888888888,
              "#fdca26"
             ],
             [
              1,
              "#f0f921"
             ]
            ],
            "type": "heatmap"
           }
          ],
          "heatmapgl": [
           {
            "colorbar": {
             "outlinewidth": 0,
             "ticks": ""
            },
            "colorscale": [
             [
              0,
              "#0d0887"
             ],
             [
              0.1111111111111111,
              "#46039f"
             ],
             [
              0.2222222222222222,
              "#7201a8"
             ],
             [
              0.3333333333333333,
              "#9c179e"
             ],
             [
              0.4444444444444444,
              "#bd3786"
             ],
             [
              0.5555555555555556,
              "#d8576b"
             ],
             [
              0.6666666666666666,
              "#ed7953"
             ],
             [
              0.7777777777777778,
              "#fb9f3a"
             ],
             [
              0.8888888888888888,
              "#fdca26"
             ],
             [
              1,
              "#f0f921"
             ]
            ],
            "type": "heatmapgl"
           }
          ],
          "histogram": [
           {
            "marker": {
             "pattern": {
              "fillmode": "overlay",
              "size": 10,
              "solidity": 0.2
             }
            },
            "type": "histogram"
           }
          ],
          "histogram2d": [
           {
            "colorbar": {
             "outlinewidth": 0,
             "ticks": ""
            },
            "colorscale": [
             [
              0,
              "#0d0887"
             ],
             [
              0.1111111111111111,
              "#46039f"
             ],
             [
              0.2222222222222222,
              "#7201a8"
             ],
             [
              0.3333333333333333,
              "#9c179e"
             ],
             [
              0.4444444444444444,
              "#bd3786"
             ],
             [
              0.5555555555555556,
              "#d8576b"
             ],
             [
              0.6666666666666666,
              "#ed7953"
             ],
             [
              0.7777777777777778,
              "#fb9f3a"
             ],
             [
              0.8888888888888888,
              "#fdca26"
             ],
             [
              1,
              "#f0f921"
             ]
            ],
            "type": "histogram2d"
           }
          ],
          "histogram2dcontour": [
           {
            "colorbar": {
             "outlinewidth": 0,
             "ticks": ""
            },
            "colorscale": [
             [
              0,
              "#0d0887"
             ],
             [
              0.1111111111111111,
              "#46039f"
             ],
             [
              0.2222222222222222,
              "#7201a8"
             ],
             [
              0.3333333333333333,
              "#9c179e"
             ],
             [
              0.4444444444444444,
              "#bd3786"
             ],
             [
              0.5555555555555556,
              "#d8576b"
             ],
             [
              0.6666666666666666,
              "#ed7953"
             ],
             [
              0.7777777777777778,
              "#fb9f3a"
             ],
             [
              0.8888888888888888,
              "#fdca26"
             ],
             [
              1,
              "#f0f921"
             ]
            ],
            "type": "histogram2dcontour"
           }
          ],
          "mesh3d": [
           {
            "colorbar": {
             "outlinewidth": 0,
             "ticks": ""
            },
            "type": "mesh3d"
           }
          ],
          "parcoords": [
           {
            "line": {
             "colorbar": {
              "outlinewidth": 0,
              "ticks": ""
             }
            },
            "type": "parcoords"
           }
          ],
          "pie": [
           {
            "automargin": true,
            "type": "pie"
           }
          ],
          "scatter": [
           {
            "fillpattern": {
             "fillmode": "overlay",
             "size": 10,
             "solidity": 0.2
            },
            "type": "scatter"
           }
          ],
          "scatter3d": [
           {
            "line": {
             "colorbar": {
              "outlinewidth": 0,
              "ticks": ""
             }
            },
            "marker": {
             "colorbar": {
              "outlinewidth": 0,
              "ticks": ""
             }
            },
            "type": "scatter3d"
           }
          ],
          "scattercarpet": [
           {
            "marker": {
             "colorbar": {
              "outlinewidth": 0,
              "ticks": ""
             }
            },
            "type": "scattercarpet"
           }
          ],
          "scattergeo": [
           {
            "marker": {
             "colorbar": {
              "outlinewidth": 0,
              "ticks": ""
             }
            },
            "type": "scattergeo"
           }
          ],
          "scattergl": [
           {
            "marker": {
             "colorbar": {
              "outlinewidth": 0,
              "ticks": ""
             }
            },
            "type": "scattergl"
           }
          ],
          "scattermapbox": [
           {
            "marker": {
             "colorbar": {
              "outlinewidth": 0,
              "ticks": ""
             }
            },
            "type": "scattermapbox"
           }
          ],
          "scatterpolar": [
           {
            "marker": {
             "colorbar": {
              "outlinewidth": 0,
              "ticks": ""
             }
            },
            "type": "scatterpolar"
           }
          ],
          "scatterpolargl": [
           {
            "marker": {
             "colorbar": {
              "outlinewidth": 0,
              "ticks": ""
             }
            },
            "type": "scatterpolargl"
           }
          ],
          "scatterternary": [
           {
            "marker": {
             "colorbar": {
              "outlinewidth": 0,
              "ticks": ""
             }
            },
            "type": "scatterternary"
           }
          ],
          "surface": [
           {
            "colorbar": {
             "outlinewidth": 0,
             "ticks": ""
            },
            "colorscale": [
             [
              0,
              "#0d0887"
             ],
             [
              0.1111111111111111,
              "#46039f"
             ],
             [
              0.2222222222222222,
              "#7201a8"
             ],
             [
              0.3333333333333333,
              "#9c179e"
             ],
             [
              0.4444444444444444,
              "#bd3786"
             ],
             [
              0.5555555555555556,
              "#d8576b"
             ],
             [
              0.6666666666666666,
              "#ed7953"
             ],
             [
              0.7777777777777778,
              "#fb9f3a"
             ],
             [
              0.8888888888888888,
              "#fdca26"
             ],
             [
              1,
              "#f0f921"
             ]
            ],
            "type": "surface"
           }
          ],
          "table": [
           {
            "cells": {
             "fill": {
              "color": "#EBF0F8"
             },
             "line": {
              "color": "white"
             }
            },
            "header": {
             "fill": {
              "color": "#C8D4E3"
             },
             "line": {
              "color": "white"
             }
            },
            "type": "table"
           }
          ]
         },
         "layout": {
          "annotationdefaults": {
           "arrowcolor": "#2a3f5f",
           "arrowhead": 0,
           "arrowwidth": 1
          },
          "autotypenumbers": "strict",
          "coloraxis": {
           "colorbar": {
            "outlinewidth": 0,
            "ticks": ""
           }
          },
          "colorscale": {
           "diverging": [
            [
             0,
             "#8e0152"
            ],
            [
             0.1,
             "#c51b7d"
            ],
            [
             0.2,
             "#de77ae"
            ],
            [
             0.3,
             "#f1b6da"
            ],
            [
             0.4,
             "#fde0ef"
            ],
            [
             0.5,
             "#f7f7f7"
            ],
            [
             0.6,
             "#e6f5d0"
            ],
            [
             0.7,
             "#b8e186"
            ],
            [
             0.8,
             "#7fbc41"
            ],
            [
             0.9,
             "#4d9221"
            ],
            [
             1,
             "#276419"
            ]
           ],
           "sequential": [
            [
             0,
             "#0d0887"
            ],
            [
             0.1111111111111111,
             "#46039f"
            ],
            [
             0.2222222222222222,
             "#7201a8"
            ],
            [
             0.3333333333333333,
             "#9c179e"
            ],
            [
             0.4444444444444444,
             "#bd3786"
            ],
            [
             0.5555555555555556,
             "#d8576b"
            ],
            [
             0.6666666666666666,
             "#ed7953"
            ],
            [
             0.7777777777777778,
             "#fb9f3a"
            ],
            [
             0.8888888888888888,
             "#fdca26"
            ],
            [
             1,
             "#f0f921"
            ]
           ],
           "sequentialminus": [
            [
             0,
             "#0d0887"
            ],
            [
             0.1111111111111111,
             "#46039f"
            ],
            [
             0.2222222222222222,
             "#7201a8"
            ],
            [
             0.3333333333333333,
             "#9c179e"
            ],
            [
             0.4444444444444444,
             "#bd3786"
            ],
            [
             0.5555555555555556,
             "#d8576b"
            ],
            [
             0.6666666666666666,
             "#ed7953"
            ],
            [
             0.7777777777777778,
             "#fb9f3a"
            ],
            [
             0.8888888888888888,
             "#fdca26"
            ],
            [
             1,
             "#f0f921"
            ]
           ]
          },
          "colorway": [
           "#636efa",
           "#EF553B",
           "#00cc96",
           "#ab63fa",
           "#FFA15A",
           "#19d3f3",
           "#FF6692",
           "#B6E880",
           "#FF97FF",
           "#FECB52"
          ],
          "font": {
           "color": "#2a3f5f"
          },
          "geo": {
           "bgcolor": "white",
           "lakecolor": "white",
           "landcolor": "#E5ECF6",
           "showlakes": true,
           "showland": true,
           "subunitcolor": "white"
          },
          "hoverlabel": {
           "align": "left"
          },
          "hovermode": "closest",
          "mapbox": {
           "style": "light"
          },
          "paper_bgcolor": "white",
          "plot_bgcolor": "#E5ECF6",
          "polar": {
           "angularaxis": {
            "gridcolor": "white",
            "linecolor": "white",
            "ticks": ""
           },
           "bgcolor": "#E5ECF6",
           "radialaxis": {
            "gridcolor": "white",
            "linecolor": "white",
            "ticks": ""
           }
          },
          "scene": {
           "xaxis": {
            "backgroundcolor": "#E5ECF6",
            "gridcolor": "white",
            "gridwidth": 2,
            "linecolor": "white",
            "showbackground": true,
            "ticks": "",
            "zerolinecolor": "white"
           },
           "yaxis": {
            "backgroundcolor": "#E5ECF6",
            "gridcolor": "white",
            "gridwidth": 2,
            "linecolor": "white",
            "showbackground": true,
            "ticks": "",
            "zerolinecolor": "white"
           },
           "zaxis": {
            "backgroundcolor": "#E5ECF6",
            "gridcolor": "white",
            "gridwidth": 2,
            "linecolor": "white",
            "showbackground": true,
            "ticks": "",
            "zerolinecolor": "white"
           }
          },
          "shapedefaults": {
           "line": {
            "color": "#2a3f5f"
           }
          },
          "ternary": {
           "aaxis": {
            "gridcolor": "white",
            "linecolor": "white",
            "ticks": ""
           },
           "baxis": {
            "gridcolor": "white",
            "linecolor": "white",
            "ticks": ""
           },
           "bgcolor": "#E5ECF6",
           "caxis": {
            "gridcolor": "white",
            "linecolor": "white",
            "ticks": ""
           }
          },
          "title": {
           "x": 0.05
          },
          "xaxis": {
           "automargin": true,
           "gridcolor": "white",
           "linecolor": "white",
           "ticks": "",
           "title": {
            "standoff": 15
           },
           "zerolinecolor": "white",
           "zerolinewidth": 2
          },
          "yaxis": {
           "automargin": true,
           "gridcolor": "white",
           "linecolor": "white",
           "ticks": "",
           "title": {
            "standoff": 15
           },
           "zerolinecolor": "white",
           "zerolinewidth": 2
          }
         }
        },
        "xaxis": {
         "dtick": 1,
         "gridcolor": "rgb(0, 0, 0)",
         "side": "top",
         "ticks": ""
        },
        "yaxis": {
         "dtick": 1,
         "ticks": "",
         "ticksuffix": "  "
        }
       }
      }
     },
     "metadata": {},
     "output_type": "display_data"
    }
   ],
   "source": [
    "\n",
    "corr = historic_useful_for_correlation.corr()\n",
    "x = list(corr.columns)\n",
    "y = list(corr.index)\n",
    "z = np.array(corr)\n",
    "\n",
    "fig = ff.create_annotated_heatmap(\n",
    "    z,\n",
    "    x = x,\n",
    "    y = y ,\n",
    "    annotation_text = np.around(z, decimals=2),\n",
    "    hoverinfo='z',\n",
    "    colorscale='Viridis'\n",
    "    )\n",
    "fig.show()\n",
    "\n"
   ]
  },
  {
   "cell_type": "code",
   "execution_count": 12,
   "metadata": {
    "colab": {
     "base_uri": "https://localhost:8080/"
    },
    "id": "X59UmfEVyXAr",
    "outputId": "b944b48a-8e94-4de3-de98-a442afa01738"
   },
   "outputs": [
    {
     "name": "stdout",
     "output_type": "stream",
     "text": [
      "variables_with_no_interesting_correlation ['Agua Serviço Gasto', 'Rancho']\n"
     ]
    }
   ],
   "source": [
    "variables_with_no_interesting_correlation = []\n",
    "for column in corr.columns:\n",
    "  correlations_for_column = []\n",
    "  for row in corr.columns:\n",
    "    if abs(corr[column][row]) > 0.5 and column != row:\n",
    "      correlations_for_column.append(corr[column][row])\n",
    "  if len(correlations_for_column) == 0:\n",
    "    variables_with_no_interesting_correlation.append(column)\n",
    "\n",
    "print(\"variables_with_no_interesting_correlation\", variables_with_no_interesting_correlation)"
   ]
  },
  {
   "cell_type": "markdown",
   "metadata": {
    "id": "qiEZiJkCzIgF"
   },
   "source": [
    "Just because these variables didnt have any interesting correlation, doesnt mean they are not useful. On the contrary, too much correlation might cause redundancy, and considering these low correlation variables can allow for complex behaviour not previously thought of"
   ]
  },
  {
   "cell_type": "markdown",
   "metadata": {
    "id": "PEltAZZjIjXv"
   },
   "source": [
    "# Controllable Variables"
   ]
  },
  {
   "cell_type": "markdown",
   "metadata": {
    "id": "Z4-jVoT7IlxW"
   },
   "source": [
    "In here, I will be looking at the behaviour, through the months, of the costs that I have conscious and immediate control over.\n",
    "\n",
    "To count as controllable variables, it must be:\n",
    "* \"Optional\": assumes that I could be reducing or cutting them;\n",
    "* \"Consumable/Integrative\": The overall result of the cost is a combination of several concious uses over the period of a month. I can spend as much as I so choose, and there is hardly a cap to how much that value is. Their only restriction is my willingness to spend money that month."
   ]
  },
  {
   "cell_type": "code",
   "execution_count": 17,
   "metadata": {
    "id": "OBo3-vSy6WOq"
   },
   "outputs": [],
   "source": [
    "import seaborn as sns\n",
    "import matplotlib.pyplot as plt\n",
    "\n",
    "controllable_variables = [\n",
    "    \"IFOOD TOTAL\",\n",
    "    \"WITH-OTHER-PEOPLE TOTAL\",\n",
    "    \"Extra Groceries 🥫 TOTAL\",\n",
    "    \"TRANSPORTE TOTAL\",\n",
    "\t\"Beleza TOTAL\" \n",
    "] \n"
   ]
  },
  {
   "cell_type": "code",
   "execution_count": null,
   "metadata": {},
   "outputs": [],
   "source": []
  },
  {
   "cell_type": "code",
   "execution_count": 18,
   "metadata": {
    "colab": {
     "base_uri": "https://localhost:8080/",
     "height": 542
    },
    "id": "FVPraRQLJXTF",
    "outputId": "c083d281-34bc-4fa6-feef-fae3309e89bd"
   },
   "outputs": [
    {
     "data": {
      "application/vnd.plotly.v1+json": {
       "config": {
        "plotlyServerURL": "https://plot.ly"
       },
       "data": [
        {
         "colorscale": [
          [
           0,
           "#440154"
          ],
          [
           0.1111111111111111,
           "#482878"
          ],
          [
           0.2222222222222222,
           "#3e4989"
          ],
          [
           0.3333333333333333,
           "#31688e"
          ],
          [
           0.4444444444444444,
           "#26828e"
          ],
          [
           0.5555555555555556,
           "#1f9e89"
          ],
          [
           0.6666666666666666,
           "#35b779"
          ],
          [
           0.7777777777777778,
           "#6ece58"
          ],
          [
           0.8888888888888888,
           "#b5de2b"
          ],
          [
           1,
           "#fde725"
          ]
         ],
         "hoverinfo": "z",
         "reversescale": false,
         "showscale": false,
         "type": "heatmap",
         "x": [
          "IFOOD TOTAL",
          "WITH-OTHER-PEOPLE TOTAL",
          "Extra Groceries 🥫 TOTAL",
          "TRANSPORTE TOTAL",
          "Beleza TOTAL"
         ],
         "y": [
          "IFOOD TOTAL",
          "WITH-OTHER-PEOPLE TOTAL",
          "Extra Groceries 🥫 TOTAL",
          "TRANSPORTE TOTAL",
          "Beleza TOTAL"
         ],
         "z": [
          [
           1,
           -1.0000000000000002,
           -1,
           -1,
           -0.9999999999999821
          ],
          [
           -1.0000000000000002,
           1,
           0.9999999999999998,
           1,
           0.9999999999999821
          ],
          [
           -1,
           0.9999999999999998,
           1,
           1.0000000000000002,
           0.9999999999999821
          ],
          [
           -1,
           1,
           1.0000000000000002,
           1,
           0.9999999999999819
          ],
          [
           -0.9999999999999821,
           0.9999999999999821,
           0.9999999999999821,
           0.9999999999999819,
           1
          ]
         ]
        }
       ],
       "layout": {
        "annotations": [
         {
          "font": {
           "color": "#000000"
          },
          "showarrow": false,
          "text": "1.0",
          "x": "IFOOD TOTAL",
          "xref": "x",
          "y": "IFOOD TOTAL",
          "yref": "y"
         },
         {
          "font": {
           "color": "#FFFFFF"
          },
          "showarrow": false,
          "text": "-1.0",
          "x": "WITH-OTHER-PEOPLE TOTAL",
          "xref": "x",
          "y": "IFOOD TOTAL",
          "yref": "y"
         },
         {
          "font": {
           "color": "#FFFFFF"
          },
          "showarrow": false,
          "text": "-1.0",
          "x": "Extra Groceries 🥫 TOTAL",
          "xref": "x",
          "y": "IFOOD TOTAL",
          "yref": "y"
         },
         {
          "font": {
           "color": "#FFFFFF"
          },
          "showarrow": false,
          "text": "-1.0",
          "x": "TRANSPORTE TOTAL",
          "xref": "x",
          "y": "IFOOD TOTAL",
          "yref": "y"
         },
         {
          "font": {
           "color": "#FFFFFF"
          },
          "showarrow": false,
          "text": "-1.0",
          "x": "Beleza TOTAL",
          "xref": "x",
          "y": "IFOOD TOTAL",
          "yref": "y"
         },
         {
          "font": {
           "color": "#FFFFFF"
          },
          "showarrow": false,
          "text": "-1.0",
          "x": "IFOOD TOTAL",
          "xref": "x",
          "y": "WITH-OTHER-PEOPLE TOTAL",
          "yref": "y"
         },
         {
          "font": {
           "color": "#000000"
          },
          "showarrow": false,
          "text": "1.0",
          "x": "WITH-OTHER-PEOPLE TOTAL",
          "xref": "x",
          "y": "WITH-OTHER-PEOPLE TOTAL",
          "yref": "y"
         },
         {
          "font": {
           "color": "#000000"
          },
          "showarrow": false,
          "text": "1.0",
          "x": "Extra Groceries 🥫 TOTAL",
          "xref": "x",
          "y": "WITH-OTHER-PEOPLE TOTAL",
          "yref": "y"
         },
         {
          "font": {
           "color": "#000000"
          },
          "showarrow": false,
          "text": "1.0",
          "x": "TRANSPORTE TOTAL",
          "xref": "x",
          "y": "WITH-OTHER-PEOPLE TOTAL",
          "yref": "y"
         },
         {
          "font": {
           "color": "#000000"
          },
          "showarrow": false,
          "text": "1.0",
          "x": "Beleza TOTAL",
          "xref": "x",
          "y": "WITH-OTHER-PEOPLE TOTAL",
          "yref": "y"
         },
         {
          "font": {
           "color": "#FFFFFF"
          },
          "showarrow": false,
          "text": "-1.0",
          "x": "IFOOD TOTAL",
          "xref": "x",
          "y": "Extra Groceries 🥫 TOTAL",
          "yref": "y"
         },
         {
          "font": {
           "color": "#000000"
          },
          "showarrow": false,
          "text": "1.0",
          "x": "WITH-OTHER-PEOPLE TOTAL",
          "xref": "x",
          "y": "Extra Groceries 🥫 TOTAL",
          "yref": "y"
         },
         {
          "font": {
           "color": "#000000"
          },
          "showarrow": false,
          "text": "1.0",
          "x": "Extra Groceries 🥫 TOTAL",
          "xref": "x",
          "y": "Extra Groceries 🥫 TOTAL",
          "yref": "y"
         },
         {
          "font": {
           "color": "#000000"
          },
          "showarrow": false,
          "text": "1.0",
          "x": "TRANSPORTE TOTAL",
          "xref": "x",
          "y": "Extra Groceries 🥫 TOTAL",
          "yref": "y"
         },
         {
          "font": {
           "color": "#000000"
          },
          "showarrow": false,
          "text": "1.0",
          "x": "Beleza TOTAL",
          "xref": "x",
          "y": "Extra Groceries 🥫 TOTAL",
          "yref": "y"
         },
         {
          "font": {
           "color": "#FFFFFF"
          },
          "showarrow": false,
          "text": "-1.0",
          "x": "IFOOD TOTAL",
          "xref": "x",
          "y": "TRANSPORTE TOTAL",
          "yref": "y"
         },
         {
          "font": {
           "color": "#000000"
          },
          "showarrow": false,
          "text": "1.0",
          "x": "WITH-OTHER-PEOPLE TOTAL",
          "xref": "x",
          "y": "TRANSPORTE TOTAL",
          "yref": "y"
         },
         {
          "font": {
           "color": "#000000"
          },
          "showarrow": false,
          "text": "1.0",
          "x": "Extra Groceries 🥫 TOTAL",
          "xref": "x",
          "y": "TRANSPORTE TOTAL",
          "yref": "y"
         },
         {
          "font": {
           "color": "#000000"
          },
          "showarrow": false,
          "text": "1.0",
          "x": "TRANSPORTE TOTAL",
          "xref": "x",
          "y": "TRANSPORTE TOTAL",
          "yref": "y"
         },
         {
          "font": {
           "color": "#000000"
          },
          "showarrow": false,
          "text": "1.0",
          "x": "Beleza TOTAL",
          "xref": "x",
          "y": "TRANSPORTE TOTAL",
          "yref": "y"
         },
         {
          "font": {
           "color": "#FFFFFF"
          },
          "showarrow": false,
          "text": "-1.0",
          "x": "IFOOD TOTAL",
          "xref": "x",
          "y": "Beleza TOTAL",
          "yref": "y"
         },
         {
          "font": {
           "color": "#000000"
          },
          "showarrow": false,
          "text": "1.0",
          "x": "WITH-OTHER-PEOPLE TOTAL",
          "xref": "x",
          "y": "Beleza TOTAL",
          "yref": "y"
         },
         {
          "font": {
           "color": "#000000"
          },
          "showarrow": false,
          "text": "1.0",
          "x": "Extra Groceries 🥫 TOTAL",
          "xref": "x",
          "y": "Beleza TOTAL",
          "yref": "y"
         },
         {
          "font": {
           "color": "#000000"
          },
          "showarrow": false,
          "text": "1.0",
          "x": "TRANSPORTE TOTAL",
          "xref": "x",
          "y": "Beleza TOTAL",
          "yref": "y"
         },
         {
          "font": {
           "color": "#000000"
          },
          "showarrow": false,
          "text": "1.0",
          "x": "Beleza TOTAL",
          "xref": "x",
          "y": "Beleza TOTAL",
          "yref": "y"
         }
        ],
        "template": {
         "data": {
          "bar": [
           {
            "error_x": {
             "color": "#2a3f5f"
            },
            "error_y": {
             "color": "#2a3f5f"
            },
            "marker": {
             "line": {
              "color": "#E5ECF6",
              "width": 0.5
             },
             "pattern": {
              "fillmode": "overlay",
              "size": 10,
              "solidity": 0.2
             }
            },
            "type": "bar"
           }
          ],
          "barpolar": [
           {
            "marker": {
             "line": {
              "color": "#E5ECF6",
              "width": 0.5
             },
             "pattern": {
              "fillmode": "overlay",
              "size": 10,
              "solidity": 0.2
             }
            },
            "type": "barpolar"
           }
          ],
          "carpet": [
           {
            "aaxis": {
             "endlinecolor": "#2a3f5f",
             "gridcolor": "white",
             "linecolor": "white",
             "minorgridcolor": "white",
             "startlinecolor": "#2a3f5f"
            },
            "baxis": {
             "endlinecolor": "#2a3f5f",
             "gridcolor": "white",
             "linecolor": "white",
             "minorgridcolor": "white",
             "startlinecolor": "#2a3f5f"
            },
            "type": "carpet"
           }
          ],
          "choropleth": [
           {
            "colorbar": {
             "outlinewidth": 0,
             "ticks": ""
            },
            "type": "choropleth"
           }
          ],
          "contour": [
           {
            "colorbar": {
             "outlinewidth": 0,
             "ticks": ""
            },
            "colorscale": [
             [
              0,
              "#0d0887"
             ],
             [
              0.1111111111111111,
              "#46039f"
             ],
             [
              0.2222222222222222,
              "#7201a8"
             ],
             [
              0.3333333333333333,
              "#9c179e"
             ],
             [
              0.4444444444444444,
              "#bd3786"
             ],
             [
              0.5555555555555556,
              "#d8576b"
             ],
             [
              0.6666666666666666,
              "#ed7953"
             ],
             [
              0.7777777777777778,
              "#fb9f3a"
             ],
             [
              0.8888888888888888,
              "#fdca26"
             ],
             [
              1,
              "#f0f921"
             ]
            ],
            "type": "contour"
           }
          ],
          "contourcarpet": [
           {
            "colorbar": {
             "outlinewidth": 0,
             "ticks": ""
            },
            "type": "contourcarpet"
           }
          ],
          "heatmap": [
           {
            "colorbar": {
             "outlinewidth": 0,
             "ticks": ""
            },
            "colorscale": [
             [
              0,
              "#0d0887"
             ],
             [
              0.1111111111111111,
              "#46039f"
             ],
             [
              0.2222222222222222,
              "#7201a8"
             ],
             [
              0.3333333333333333,
              "#9c179e"
             ],
             [
              0.4444444444444444,
              "#bd3786"
             ],
             [
              0.5555555555555556,
              "#d8576b"
             ],
             [
              0.6666666666666666,
              "#ed7953"
             ],
             [
              0.7777777777777778,
              "#fb9f3a"
             ],
             [
              0.8888888888888888,
              "#fdca26"
             ],
             [
              1,
              "#f0f921"
             ]
            ],
            "type": "heatmap"
           }
          ],
          "heatmapgl": [
           {
            "colorbar": {
             "outlinewidth": 0,
             "ticks": ""
            },
            "colorscale": [
             [
              0,
              "#0d0887"
             ],
             [
              0.1111111111111111,
              "#46039f"
             ],
             [
              0.2222222222222222,
              "#7201a8"
             ],
             [
              0.3333333333333333,
              "#9c179e"
             ],
             [
              0.4444444444444444,
              "#bd3786"
             ],
             [
              0.5555555555555556,
              "#d8576b"
             ],
             [
              0.6666666666666666,
              "#ed7953"
             ],
             [
              0.7777777777777778,
              "#fb9f3a"
             ],
             [
              0.8888888888888888,
              "#fdca26"
             ],
             [
              1,
              "#f0f921"
             ]
            ],
            "type": "heatmapgl"
           }
          ],
          "histogram": [
           {
            "marker": {
             "pattern": {
              "fillmode": "overlay",
              "size": 10,
              "solidity": 0.2
             }
            },
            "type": "histogram"
           }
          ],
          "histogram2d": [
           {
            "colorbar": {
             "outlinewidth": 0,
             "ticks": ""
            },
            "colorscale": [
             [
              0,
              "#0d0887"
             ],
             [
              0.1111111111111111,
              "#46039f"
             ],
             [
              0.2222222222222222,
              "#7201a8"
             ],
             [
              0.3333333333333333,
              "#9c179e"
             ],
             [
              0.4444444444444444,
              "#bd3786"
             ],
             [
              0.5555555555555556,
              "#d8576b"
             ],
             [
              0.6666666666666666,
              "#ed7953"
             ],
             [
              0.7777777777777778,
              "#fb9f3a"
             ],
             [
              0.8888888888888888,
              "#fdca26"
             ],
             [
              1,
              "#f0f921"
             ]
            ],
            "type": "histogram2d"
           }
          ],
          "histogram2dcontour": [
           {
            "colorbar": {
             "outlinewidth": 0,
             "ticks": ""
            },
            "colorscale": [
             [
              0,
              "#0d0887"
             ],
             [
              0.1111111111111111,
              "#46039f"
             ],
             [
              0.2222222222222222,
              "#7201a8"
             ],
             [
              0.3333333333333333,
              "#9c179e"
             ],
             [
              0.4444444444444444,
              "#bd3786"
             ],
             [
              0.5555555555555556,
              "#d8576b"
             ],
             [
              0.6666666666666666,
              "#ed7953"
             ],
             [
              0.7777777777777778,
              "#fb9f3a"
             ],
             [
              0.8888888888888888,
              "#fdca26"
             ],
             [
              1,
              "#f0f921"
             ]
            ],
            "type": "histogram2dcontour"
           }
          ],
          "mesh3d": [
           {
            "colorbar": {
             "outlinewidth": 0,
             "ticks": ""
            },
            "type": "mesh3d"
           }
          ],
          "parcoords": [
           {
            "line": {
             "colorbar": {
              "outlinewidth": 0,
              "ticks": ""
             }
            },
            "type": "parcoords"
           }
          ],
          "pie": [
           {
            "automargin": true,
            "type": "pie"
           }
          ],
          "scatter": [
           {
            "fillpattern": {
             "fillmode": "overlay",
             "size": 10,
             "solidity": 0.2
            },
            "type": "scatter"
           }
          ],
          "scatter3d": [
           {
            "line": {
             "colorbar": {
              "outlinewidth": 0,
              "ticks": ""
             }
            },
            "marker": {
             "colorbar": {
              "outlinewidth": 0,
              "ticks": ""
             }
            },
            "type": "scatter3d"
           }
          ],
          "scattercarpet": [
           {
            "marker": {
             "colorbar": {
              "outlinewidth": 0,
              "ticks": ""
             }
            },
            "type": "scattercarpet"
           }
          ],
          "scattergeo": [
           {
            "marker": {
             "colorbar": {
              "outlinewidth": 0,
              "ticks": ""
             }
            },
            "type": "scattergeo"
           }
          ],
          "scattergl": [
           {
            "marker": {
             "colorbar": {
              "outlinewidth": 0,
              "ticks": ""
             }
            },
            "type": "scattergl"
           }
          ],
          "scattermapbox": [
           {
            "marker": {
             "colorbar": {
              "outlinewidth": 0,
              "ticks": ""
             }
            },
            "type": "scattermapbox"
           }
          ],
          "scatterpolar": [
           {
            "marker": {
             "colorbar": {
              "outlinewidth": 0,
              "ticks": ""
             }
            },
            "type": "scatterpolar"
           }
          ],
          "scatterpolargl": [
           {
            "marker": {
             "colorbar": {
              "outlinewidth": 0,
              "ticks": ""
             }
            },
            "type": "scatterpolargl"
           }
          ],
          "scatterternary": [
           {
            "marker": {
             "colorbar": {
              "outlinewidth": 0,
              "ticks": ""
             }
            },
            "type": "scatterternary"
           }
          ],
          "surface": [
           {
            "colorbar": {
             "outlinewidth": 0,
             "ticks": ""
            },
            "colorscale": [
             [
              0,
              "#0d0887"
             ],
             [
              0.1111111111111111,
              "#46039f"
             ],
             [
              0.2222222222222222,
              "#7201a8"
             ],
             [
              0.3333333333333333,
              "#9c179e"
             ],
             [
              0.4444444444444444,
              "#bd3786"
             ],
             [
              0.5555555555555556,
              "#d8576b"
             ],
             [
              0.6666666666666666,
              "#ed7953"
             ],
             [
              0.7777777777777778,
              "#fb9f3a"
             ],
             [
              0.8888888888888888,
              "#fdca26"
             ],
             [
              1,
              "#f0f921"
             ]
            ],
            "type": "surface"
           }
          ],
          "table": [
           {
            "cells": {
             "fill": {
              "color": "#EBF0F8"
             },
             "line": {
              "color": "white"
             }
            },
            "header": {
             "fill": {
              "color": "#C8D4E3"
             },
             "line": {
              "color": "white"
             }
            },
            "type": "table"
           }
          ]
         },
         "layout": {
          "annotationdefaults": {
           "arrowcolor": "#2a3f5f",
           "arrowhead": 0,
           "arrowwidth": 1
          },
          "autotypenumbers": "strict",
          "coloraxis": {
           "colorbar": {
            "outlinewidth": 0,
            "ticks": ""
           }
          },
          "colorscale": {
           "diverging": [
            [
             0,
             "#8e0152"
            ],
            [
             0.1,
             "#c51b7d"
            ],
            [
             0.2,
             "#de77ae"
            ],
            [
             0.3,
             "#f1b6da"
            ],
            [
             0.4,
             "#fde0ef"
            ],
            [
             0.5,
             "#f7f7f7"
            ],
            [
             0.6,
             "#e6f5d0"
            ],
            [
             0.7,
             "#b8e186"
            ],
            [
             0.8,
             "#7fbc41"
            ],
            [
             0.9,
             "#4d9221"
            ],
            [
             1,
             "#276419"
            ]
           ],
           "sequential": [
            [
             0,
             "#0d0887"
            ],
            [
             0.1111111111111111,
             "#46039f"
            ],
            [
             0.2222222222222222,
             "#7201a8"
            ],
            [
             0.3333333333333333,
             "#9c179e"
            ],
            [
             0.4444444444444444,
             "#bd3786"
            ],
            [
             0.5555555555555556,
             "#d8576b"
            ],
            [
             0.6666666666666666,
             "#ed7953"
            ],
            [
             0.7777777777777778,
             "#fb9f3a"
            ],
            [
             0.8888888888888888,
             "#fdca26"
            ],
            [
             1,
             "#f0f921"
            ]
           ],
           "sequentialminus": [
            [
             0,
             "#0d0887"
            ],
            [
             0.1111111111111111,
             "#46039f"
            ],
            [
             0.2222222222222222,
             "#7201a8"
            ],
            [
             0.3333333333333333,
             "#9c179e"
            ],
            [
             0.4444444444444444,
             "#bd3786"
            ],
            [
             0.5555555555555556,
             "#d8576b"
            ],
            [
             0.6666666666666666,
             "#ed7953"
            ],
            [
             0.7777777777777778,
             "#fb9f3a"
            ],
            [
             0.8888888888888888,
             "#fdca26"
            ],
            [
             1,
             "#f0f921"
            ]
           ]
          },
          "colorway": [
           "#636efa",
           "#EF553B",
           "#00cc96",
           "#ab63fa",
           "#FFA15A",
           "#19d3f3",
           "#FF6692",
           "#B6E880",
           "#FF97FF",
           "#FECB52"
          ],
          "font": {
           "color": "#2a3f5f"
          },
          "geo": {
           "bgcolor": "white",
           "lakecolor": "white",
           "landcolor": "#E5ECF6",
           "showlakes": true,
           "showland": true,
           "subunitcolor": "white"
          },
          "hoverlabel": {
           "align": "left"
          },
          "hovermode": "closest",
          "mapbox": {
           "style": "light"
          },
          "paper_bgcolor": "white",
          "plot_bgcolor": "#E5ECF6",
          "polar": {
           "angularaxis": {
            "gridcolor": "white",
            "linecolor": "white",
            "ticks": ""
           },
           "bgcolor": "#E5ECF6",
           "radialaxis": {
            "gridcolor": "white",
            "linecolor": "white",
            "ticks": ""
           }
          },
          "scene": {
           "xaxis": {
            "backgroundcolor": "#E5ECF6",
            "gridcolor": "white",
            "gridwidth": 2,
            "linecolor": "white",
            "showbackground": true,
            "ticks": "",
            "zerolinecolor": "white"
           },
           "yaxis": {
            "backgroundcolor": "#E5ECF6",
            "gridcolor": "white",
            "gridwidth": 2,
            "linecolor": "white",
            "showbackground": true,
            "ticks": "",
            "zerolinecolor": "white"
           },
           "zaxis": {
            "backgroundcolor": "#E5ECF6",
            "gridcolor": "white",
            "gridwidth": 2,
            "linecolor": "white",
            "showbackground": true,
            "ticks": "",
            "zerolinecolor": "white"
           }
          },
          "shapedefaults": {
           "line": {
            "color": "#2a3f5f"
           }
          },
          "ternary": {
           "aaxis": {
            "gridcolor": "white",
            "linecolor": "white",
            "ticks": ""
           },
           "baxis": {
            "gridcolor": "white",
            "linecolor": "white",
            "ticks": ""
           },
           "bgcolor": "#E5ECF6",
           "caxis": {
            "gridcolor": "white",
            "linecolor": "white",
            "ticks": ""
           }
          },
          "title": {
           "x": 0.05
          },
          "xaxis": {
           "automargin": true,
           "gridcolor": "white",
           "linecolor": "white",
           "ticks": "",
           "title": {
            "standoff": 15
           },
           "zerolinecolor": "white",
           "zerolinewidth": 2
          },
          "yaxis": {
           "automargin": true,
           "gridcolor": "white",
           "linecolor": "white",
           "ticks": "",
           "title": {
            "standoff": 15
           },
           "zerolinecolor": "white",
           "zerolinewidth": 2
          }
         }
        },
        "xaxis": {
         "dtick": 1,
         "gridcolor": "rgb(0, 0, 0)",
         "side": "top",
         "ticks": ""
        },
        "yaxis": {
         "dtick": 1,
         "ticks": "",
         "ticksuffix": "  "
        }
       }
      }
     },
     "metadata": {},
     "output_type": "display_data"
    }
   ],
   "source": [
    "historic_controllable = historic_useful_for_correlation[controllable_variables]\n",
    "corr = historic_controllable.corr()\n",
    "x = list(corr.columns)\n",
    "y = list(corr.index)\n",
    "z = np.array(corr)\n",
    "\n",
    "fig = ff.create_annotated_heatmap(\n",
    "    z,\n",
    "    x = x,\n",
    "    y = y ,\n",
    "    annotation_text = np.around(z, decimals=2),\n",
    "    hoverinfo='z',\n",
    "    colorscale='Viridis'\n",
    "    )\n",
    "fig.show()\n",
    "\n"
   ]
  },
  {
   "cell_type": "code",
   "execution_count": 19,
   "metadata": {
    "colab": {
     "base_uri": "https://localhost:8080/",
     "height": 465
    },
    "id": "cqjashYZJSTn",
    "outputId": "083060ae-da54-478d-d412-3c301fb87089"
   },
   "outputs": [
    {
     "name": "stdout",
     "output_type": "stream",
     "text": [
      "average_controllable_spendings 811.73\n"
     ]
    },
    {
     "data": {
      "text/plain": [
       "[np.float64(955.3199999999999), np.float64(668.14)]"
      ]
     },
     "execution_count": 19,
     "metadata": {},
     "output_type": "execute_result"
    },
    {
     "data": {
      "image/png": "[encoded data removed]",
      "text/plain": [
       "<Figure size 640x480 with 1 Axes>"
      ]
     },
     "metadata": {},
     "output_type": "display_data"
    }
   ],
   "source": [
    "average_controllable_spendings = 0\n",
    "\n",
    "for variable in controllable_variables:\n",
    "  average_controllable_spendings += historic_useful_for_correlation[variable].mean()\n",
    "\n",
    "print(\"average_controllable_spendings\", average_controllable_spendings)\n",
    "\n",
    "all_controllable_spendings_of_a_month = []\n",
    "month_spending_color = []\n",
    "for row in historic_useful_for_correlation.index:\n",
    "  row_controllable_spendings = 0\n",
    "  for variable in controllable_variables:\n",
    "    row_controllable_spendings += historic_useful_for_correlation[variable][row]\n",
    "\n",
    "  if row_controllable_spendings > average_controllable_spendings:\n",
    "    color = \"red\"\n",
    "  else:\n",
    "    color = \"green\"\n",
    "  if row_controllable_spendings == 0:\n",
    "    continue\n",
    "  month_spending_color.append(color)\n",
    "  all_controllable_spendings_of_a_month.append(row_controllable_spendings)\n",
    "\n",
    "\n",
    "# Plot the line using segments of different colors\n",
    "fig, ax = plt.subplots()\n",
    "\n",
    "for i in range(1, len(all_controllable_spendings_of_a_month)):\n",
    "    ax.plot([i-1, i],\n",
    "            [all_controllable_spendings_of_a_month[i-1], all_controllable_spendings_of_a_month[i]],\n",
    "            marker='o',\n",
    "            color=month_spending_color[i])\n",
    "all_controllable_spendings_of_a_month"
   ]
  },
  {
   "cell_type": "markdown",
   "metadata": {
    "id": "QmZiKRSv_Apt"
   },
   "source": [
    "Reference Material For Regression: https://medium.com/@shuv.sdr/polynomial-regression-in-python-58198fb0973f\n",
    "\n",
    "Reference Material for Time Series: https://www.timescale.com/blog/how-to-work-with-time-series-in-python/\n",
    "\n",
    "I will be passing a single input for the regression, that will be the index of the data in the list. This has an implicit expectation that the data is \"self explanatory\", in the sense that its behaviour has some consistent linear relatonship with time. In a sense, what is defining the result of the regression are the values themselves.\n",
    "This is somewhat similar to predicting stock! At least, considering the inputs. When predicting stocks, we have some expectation that the data has a self-correlation, a correlation with previous values.\n",
    "\n",
    "Below the linear regression, I have used a time series model for the same purpose to compare results: AutoRegression.\n",
    "And then, finally, I made the same model but manually using LinearRegression for p = 1, to demonstrate how it works.\n",
    "\n",
    "It will, of course, not be highly efficient at prediction. Or at least, it is not expected to. After all, we dont actually believe there to be a pattern of self-correlation (but it might be interesting to check if there is, comparing results with the future \"better model\" that we will use).\n"
   ]
  },
  {
   "cell_type": "code",
   "execution_count": 21,
   "metadata": {
    "colab": {
     "base_uri": "https://localhost:8080/",
     "height": 80
    },
    "id": "sJP-SAw-4x95",
    "outputId": "49a9f449-4cc6-4753-a14a-190cf7670ef8"
   },
   "outputs": [
    {
     "data": {
      "text/html": [
       "<style>#sk-container-id-1 {\n",
       "  /* Definition of color scheme common for light and dark mode */\n",
       "  --sklearn-color-text: black;\n",
       "  --sklearn-color-line: gray;\n",
       "  /* Definition of color scheme for unfitted estimators */\n",
       "  --sklearn-color-unfitted-level-0: #fff5e6;\n",
       "  --sklearn-color-unfitted-level-1: #f6e4d2;\n",
       "  --sklearn-color-unfitted-level-2: #ffe0b3;\n",
       "  --sklearn-color-unfitted-level-3: chocolate;\n",
       "  /* Definition of color scheme for fitted estimators */\n",
       "  --sklearn-color-fitted-level-0: #f0f8ff;\n",
       "  --sklearn-color-fitted-level-1: #d4ebff;\n",
       "  --sklearn-color-fitted-level-2: #b3dbfd;\n",
       "  --sklearn-color-fitted-level-3: cornflowerblue;\n",
       "\n",
       "  /* Specific color for light theme */\n",
       "  --sklearn-color-text-on-default-background: var(--sg-text-color, var(--theme-code-foreground, var(--jp-content-font-color1, black)));\n",
       "  --sklearn-color-background: var(--sg-background-color, var(--theme-background, var(--jp-layout-color0, white)));\n",
       "  --sklearn-color-border-box: var(--sg-text-color, var(--theme-code-foreground, var(--jp-content-font-color1, black)));\n",
       "  --sklearn-color-icon: #696969;\n",
       "\n",
       "  @media (prefers-color-scheme: dark) {\n",
       "    /* Redefinition of color scheme for dark theme */\n",
       "    --sklearn-color-text-on-default-background: var(--sg-text-color, var(--theme-code-foreground, var(--jp-content-font-color1, white)));\n",
       "    --sklearn-color-background: var(--sg-background-color, var(--theme-background, var(--jp-layout-color0, #111)));\n",
       "    --sklearn-color-border-box: var(--sg-text-color, var(--theme-code-foreground, var(--jp-content-font-color1, white)));\n",
       "    --sklearn-color-icon: #878787;\n",
       "  }\n",
       "}\n",
       "\n",
       "#sk-container-id-1 {\n",
       "  color: var(--sklearn-color-text);\n",
       "}\n",
       "\n",
       "#sk-container-id-1 pre {\n",
       "  padding: 0;\n",
       "}\n",
       "\n",
       "#sk-container-id-1 input.sk-hidden--visually {\n",
       "  border: 0;\n",
       "  clip: rect(1px 1px 1px 1px);\n",
       "  clip: rect(1px, 1px, 1px, 1px);\n",
       "  height: 1px;\n",
       "  margin: -1px;\n",
       "  overflow: hidden;\n",
       "  padding: 0;\n",
       "  position: absolute;\n",
       "  width: 1px;\n",
       "}\n",
       "\n",
       "#sk-container-id-1 div.sk-dashed-wrapped {\n",
       "  border: 1px dashed var(--sklearn-color-line);\n",
       "  margin: 0 0.4em 0.5em 0.4em;\n",
       "  box-sizing: border-box;\n",
       "  padding-bottom: 0.4em;\n",
       "  background-color: var(--sklearn-color-background);\n",
       "}\n",
       "\n",
       "#sk-container-id-1 div.sk-container {\n",
       "  /* jupyter's `normalize.less` sets `[hidden] { display: none; }`\n",
       "     but bootstrap.min.css set `[hidden] { display: none !important; }`\n",
       "     so we also need the `!important` here to be able to override the\n",
       "     default hidden behavior on the sphinx rendered scikit-learn.org.\n",
       "     See: https://github.com/scikit-learn/scikit-learn/issues/21755 */\n",
       "  display: inline-block !important;\n",
       "  position: relative;\n",
       "}\n",
       "\n",
       "#sk-container-id-1 div.sk-text-repr-fallback {\n",
       "  display: none;\n",
       "}\n",
       "\n",
       "div.sk-parallel-item,\n",
       "div.sk-serial,\n",
       "div.sk-item {\n",
       "  /* draw centered vertical line to link estimators */\n",
       "  background-image: linear-gradient(var(--sklearn-color-text-on-default-background), var(--sklearn-color-text-on-default-background));\n",
       "  background-size: 2px 100%;\n",
       "  background-repeat: no-repeat;\n",
       "  background-position: center center;\n",
       "}\n",
       "\n",
       "/* Parallel-specific style estimator block */\n",
       "\n",
       "#sk-container-id-1 div.sk-parallel-item::after {\n",
       "  content: \"\";\n",
       "  width: 100%;\n",
       "  border-bottom: 2px solid var(--sklearn-color-text-on-default-background);\n",
       "  flex-grow: 1;\n",
       "}\n",
       "\n",
       "#sk-container-id-1 div.sk-parallel {\n",
       "  display: flex;\n",
       "  align-items: stretch;\n",
       "  justify-content: center;\n",
       "  background-color: var(--sklearn-color-background);\n",
       "  position: relative;\n",
       "}\n",
       "\n",
       "#sk-container-id-1 div.sk-parallel-item {\n",
       "  display: flex;\n",
       "  flex-direction: column;\n",
       "}\n",
       "\n",
       "#sk-container-id-1 div.sk-parallel-item:first-child::after {\n",
       "  align-self: flex-end;\n",
       "  width: 50%;\n",
       "}\n",
       "\n",
       "#sk-container-id-1 div.sk-parallel-item:last-child::after {\n",
       "  align-self: flex-start;\n",
       "  width: 50%;\n",
       "}\n",
       "\n",
       "#sk-container-id-1 div.sk-parallel-item:only-child::after {\n",
       "  width: 0;\n",
       "}\n",
       "\n",
       "/* Serial-specific style estimator block */\n",
       "\n",
       "#sk-container-id-1 div.sk-serial {\n",
       "  display: flex;\n",
       "  flex-direction: column;\n",
       "  align-items: center;\n",
       "  background-color: var(--sklearn-color-background);\n",
       "  padding-right: 1em;\n",
       "  padding-left: 1em;\n",
       "}\n",
       "\n",
       "\n",
       "/* Toggleable style: style used for estimator/Pipeline/ColumnTransformer box that is\n",
       "clickable and can be expanded/collapsed.\n",
       "- Pipeline and ColumnTransformer use this feature and define the default style\n",
       "- Estimators will overwrite some part of the style using the `sk-estimator` class\n",
       "*/\n",
       "\n",
       "/* Pipeline and ColumnTransformer style (default) */\n",
       "\n",
       "#sk-container-id-1 div.sk-toggleable {\n",
       "  /* Default theme specific background. It is overwritten whether we have a\n",
       "  specific estimator or a Pipeline/ColumnTransformer */\n",
       "  background-color: var(--sklearn-color-background);\n",
       "}\n",
       "\n",
       "/* Toggleable label */\n",
       "#sk-container-id-1 label.sk-toggleable__label {\n",
       "  cursor: pointer;\n",
       "  display: block;\n",
       "  width: 100%;\n",
       "  margin-bottom: 0;\n",
       "  padding: 0.5em;\n",
       "  box-sizing: border-box;\n",
       "  text-align: center;\n",
       "}\n",
       "\n",
       "#sk-container-id-1 label.sk-toggleable__label-arrow:before {\n",
       "  /* Arrow on the left of the label */\n",
       "  content: \"▸\";\n",
       "  float: left;\n",
       "  margin-right: 0.25em;\n",
       "  color: var(--sklearn-color-icon);\n",
       "}\n",
       "\n",
       "#sk-container-id-1 label.sk-toggleable__label-arrow:hover:before {\n",
       "  color: var(--sklearn-color-text);\n",
       "}\n",
       "\n",
       "/* Toggleable content - dropdown */\n",
       "\n",
       "#sk-container-id-1 div.sk-toggleable__content {\n",
       "  max-height: 0;\n",
       "  max-width: 0;\n",
       "  overflow: hidden;\n",
       "  text-align: left;\n",
       "  /* unfitted */\n",
       "  background-color: var(--sklearn-color-unfitted-level-0);\n",
       "}\n",
       "\n",
       "#sk-container-id-1 div.sk-toggleable__content.fitted {\n",
       "  /* fitted */\n",
       "  background-color: var(--sklearn-color-fitted-level-0);\n",
       "}\n",
       "\n",
       "#sk-container-id-1 div.sk-toggleable__content pre {\n",
       "  margin: 0.2em;\n",
       "  border-radius: 0.25em;\n",
       "  color: var(--sklearn-color-text);\n",
       "  /* unfitted */\n",
       "  background-color: var(--sklearn-color-unfitted-level-0);\n",
       "}\n",
       "\n",
       "#sk-container-id-1 div.sk-toggleable__content.fitted pre {\n",
       "  /* unfitted */\n",
       "  background-color: var(--sklearn-color-fitted-level-0);\n",
       "}\n",
       "\n",
       "#sk-container-id-1 input.sk-toggleable__control:checked~div.sk-toggleable__content {\n",
       "  /* Expand drop-down */\n",
       "  max-height: 200px;\n",
       "  max-width: 100%;\n",
       "  overflow: auto;\n",
       "}\n",
       "\n",
       "#sk-container-id-1 input.sk-toggleable__control:checked~label.sk-toggleable__label-arrow:before {\n",
       "  content: \"▾\";\n",
       "}\n",
       "\n",
       "/* Pipeline/ColumnTransformer-specific style */\n",
       "\n",
       "#sk-container-id-1 div.sk-label input.sk-toggleable__control:checked~label.sk-toggleable__label {\n",
       "  color: var(--sklearn-color-text);\n",
       "  background-color: var(--sklearn-color-unfitted-level-2);\n",
       "}\n",
       "\n",
       "#sk-container-id-1 div.sk-label.fitted input.sk-toggleable__control:checked~label.sk-toggleable__label {\n",
       "  background-color: var(--sklearn-color-fitted-level-2);\n",
       "}\n",
       "\n",
       "/* Estimator-specific style */\n",
       "\n",
       "/* Colorize estimator box */\n",
       "#sk-container-id-1 div.sk-estimator input.sk-toggleable__control:checked~label.sk-toggleable__label {\n",
       "  /* unfitted */\n",
       "  background-color: var(--sklearn-color-unfitted-level-2);\n",
       "}\n",
       "\n",
       "#sk-container-id-1 div.sk-estimator.fitted input.sk-toggleable__control:checked~label.sk-toggleable__label {\n",
       "  /* fitted */\n",
       "  background-color: var(--sklearn-color-fitted-level-2);\n",
       "}\n",
       "\n",
       "#sk-container-id-1 div.sk-label label.sk-toggleable__label,\n",
       "#sk-container-id-1 div.sk-label label {\n",
       "  /* The background is the default theme color */\n",
       "  color: var(--sklearn-color-text-on-default-background);\n",
       "}\n",
       "\n",
       "/* On hover, darken the color of the background */\n",
       "#sk-container-id-1 div.sk-label:hover label.sk-toggleable__label {\n",
       "  color: var(--sklearn-color-text);\n",
       "  background-color: var(--sklearn-color-unfitted-level-2);\n",
       "}\n",
       "\n",
       "/* Label box, darken color on hover, fitted */\n",
       "#sk-container-id-1 div.sk-label.fitted:hover label.sk-toggleable__label.fitted {\n",
       "  color: var(--sklearn-color-text);\n",
       "  background-color: var(--sklearn-color-fitted-level-2);\n",
       "}\n",
       "\n",
       "/* Estimator label */\n",
       "\n",
       "#sk-container-id-1 div.sk-label label {\n",
       "  font-family: monospace;\n",
       "  font-weight: bold;\n",
       "  display: inline-block;\n",
       "  line-height: 1.2em;\n",
       "}\n",
       "\n",
       "#sk-container-id-1 div.sk-label-container {\n",
       "  text-align: center;\n",
       "}\n",
       "\n",
       "/* Estimator-specific */\n",
       "#sk-container-id-1 div.sk-estimator {\n",
       "  font-family: monospace;\n",
       "  border: 1px dotted var(--sklearn-color-border-box);\n",
       "  border-radius: 0.25em;\n",
       "  box-sizing: border-box;\n",
       "  margin-bottom: 0.5em;\n",
       "  /* unfitted */\n",
       "  background-color: var(--sklearn-color-unfitted-level-0);\n",
       "}\n",
       "\n",
       "#sk-container-id-1 div.sk-estimator.fitted {\n",
       "  /* fitted */\n",
       "  background-color: var(--sklearn-color-fitted-level-0);\n",
       "}\n",
       "\n",
       "/* on hover */\n",
       "#sk-container-id-1 div.sk-estimator:hover {\n",
       "  /* unfitted */\n",
       "  background-color: var(--sklearn-color-unfitted-level-2);\n",
       "}\n",
       "\n",
       "#sk-container-id-1 div.sk-estimator.fitted:hover {\n",
       "  /* fitted */\n",
       "  background-color: var(--sklearn-color-fitted-level-2);\n",
       "}\n",
       "\n",
       "/* Specification for estimator info (e.g. \"i\" and \"?\") */\n",
       "\n",
       "/* Common style for \"i\" and \"?\" */\n",
       "\n",
       ".sk-estimator-doc-link,\n",
       "a:link.sk-estimator-doc-link,\n",
       "a:visited.sk-estimator-doc-link {\n",
       "  float: right;\n",
       "  font-size: smaller;\n",
       "  line-height: 1em;\n",
       "  font-family: monospace;\n",
       "  background-color: var(--sklearn-color-background);\n",
       "  border-radius: 1em;\n",
       "  height: 1em;\n",
       "  width: 1em;\n",
       "  text-decoration: none !important;\n",
       "  margin-left: 1ex;\n",
       "  /* unfitted */\n",
       "  border: var(--sklearn-color-unfitted-level-1) 1pt solid;\n",
       "  color: var(--sklearn-color-unfitted-level-1);\n",
       "}\n",
       "\n",
       ".sk-estimator-doc-link.fitted,\n",
       "a:link.sk-estimator-doc-link.fitted,\n",
       "a:visited.sk-estimator-doc-link.fitted {\n",
       "  /* fitted */\n",
       "  border: var(--sklearn-color-fitted-level-1) 1pt solid;\n",
       "  color: var(--sklearn-color-fitted-level-1);\n",
       "}\n",
       "\n",
       "/* On hover */\n",
       "div.sk-estimator:hover .sk-estimator-doc-link:hover,\n",
       ".sk-estimator-doc-link:hover,\n",
       "div.sk-label-container:hover .sk-estimator-doc-link:hover,\n",
       ".sk-estimator-doc-link:hover {\n",
       "  /* unfitted */\n",
       "  background-color: var(--sklearn-color-unfitted-level-3);\n",
       "  color: var(--sklearn-color-background);\n",
       "  text-decoration: none;\n",
       "}\n",
       "\n",
       "div.sk-estimator.fitted:hover .sk-estimator-doc-link.fitted:hover,\n",
       ".sk-estimator-doc-link.fitted:hover,\n",
       "div.sk-label-container:hover .sk-estimator-doc-link.fitted:hover,\n",
       ".sk-estimator-doc-link.fitted:hover {\n",
       "  /* fitted */\n",
       "  background-color: var(--sklearn-color-fitted-level-3);\n",
       "  color: var(--sklearn-color-background);\n",
       "  text-decoration: none;\n",
       "}\n",
       "\n",
       "/* Span, style for the box shown on hovering the info icon */\n",
       ".sk-estimator-doc-link span {\n",
       "  display: none;\n",
       "  z-index: 9999;\n",
       "  position: relative;\n",
       "  font-weight: normal;\n",
       "  right: .2ex;\n",
       "  padding: .5ex;\n",
       "  margin: .5ex;\n",
       "  width: min-content;\n",
       "  min-width: 20ex;\n",
       "  max-width: 50ex;\n",
       "  color: var(--sklearn-color-text);\n",
       "  box-shadow: 2pt 2pt 4pt #999;\n",
       "  /* unfitted */\n",
       "  background: var(--sklearn-color-unfitted-level-0);\n",
       "  border: .5pt solid var(--sklearn-color-unfitted-level-3);\n",
       "}\n",
       "\n",
       ".sk-estimator-doc-link.fitted span {\n",
       "  /* fitted */\n",
       "  background: var(--sklearn-color-fitted-level-0);\n",
       "  border: var(--sklearn-color-fitted-level-3);\n",
       "}\n",
       "\n",
       ".sk-estimator-doc-link:hover span {\n",
       "  display: block;\n",
       "}\n",
       "\n",
       "/* \"?\"-specific style due to the `<a>` HTML tag */\n",
       "\n",
       "#sk-container-id-1 a.estimator_doc_link {\n",
       "  float: right;\n",
       "  font-size: 1rem;\n",
       "  line-height: 1em;\n",
       "  font-family: monospace;\n",
       "  background-color: var(--sklearn-color-background);\n",
       "  border-radius: 1rem;\n",
       "  height: 1rem;\n",
       "  width: 1rem;\n",
       "  text-decoration: none;\n",
       "  /* unfitted */\n",
       "  color: var(--sklearn-color-unfitted-level-1);\n",
       "  border: var(--sklearn-color-unfitted-level-1) 1pt solid;\n",
       "}\n",
       "\n",
       "#sk-container-id-1 a.estimator_doc_link.fitted {\n",
       "  /* fitted */\n",
       "  border: var(--sklearn-color-fitted-level-1) 1pt solid;\n",
       "  color: var(--sklearn-color-fitted-level-1);\n",
       "}\n",
       "\n",
       "/* On hover */\n",
       "#sk-container-id-1 a.estimator_doc_link:hover {\n",
       "  /* unfitted */\n",
       "  background-color: var(--sklearn-color-unfitted-level-3);\n",
       "  color: var(--sklearn-color-background);\n",
       "  text-decoration: none;\n",
       "}\n",
       "\n",
       "#sk-container-id-1 a.estimator_doc_link.fitted:hover {\n",
       "  /* fitted */\n",
       "  background-color: var(--sklearn-color-fitted-level-3);\n",
       "}\n",
       "</style><div id=\"sk-container-id-1\" class=\"sk-top-container\"><div class=\"sk-text-repr-fallback\"><pre>LinearRegression()</pre><b>In a Jupyter environment, please rerun this cell to show the HTML representation or trust the notebook. <br />On GitHub, the HTML representation is unable to render, please try loading this page with nbviewer.org.</b></div><div class=\"sk-container\" hidden><div class=\"sk-item\"><div class=\"sk-estimator fitted sk-toggleable\"><input class=\"sk-toggleable__control sk-hidden--visually\" id=\"sk-estimator-id-1\" type=\"checkbox\" checked><label for=\"sk-estimator-id-1\" class=\"sk-toggleable__label fitted sk-toggleable__label-arrow fitted\">&nbsp;&nbsp;LinearRegression<a class=\"sk-estimator-doc-link fitted\" rel=\"noreferrer\" target=\"_blank\" href=\"https://scikit-learn.org/1.5/modules/generated/sklearn.linear_model.LinearRegression.html\">?<span>Documentation for LinearRegression</span></a><span class=\"sk-estimator-doc-link fitted\">i<span>Fitted</span></span></label><div class=\"sk-toggleable__content fitted\"><pre>LinearRegression()</pre></div> </div></div></div></div>"
      ],
      "text/plain": [
       "LinearRegression()"
      ]
     },
     "execution_count": 21,
     "metadata": {},
     "output_type": "execute_result"
    }
   ],
   "source": [
    "from sklearn.model_selection import train_test_split\n",
    "from sklearn.preprocessing import PolynomialFeatures\n",
    "from sklearn.linear_model import LinearRegression\n",
    "\n",
    "twod_all_controllable_spendings_of_a_month = []\n",
    "X = np.array([])\n",
    "y = np.array([])\n",
    "for i, value in enumerate(all_controllable_spendings_of_a_month):\n",
    "  X = np.append(X,i)\n",
    "  y = np.append(y,value)\n",
    "  twod_all_controllable_spendings_of_a_month.append([i, value])\n",
    "\n",
    "lr = LinearRegression()\n",
    "lr.fit(X.reshape(-1, 1), y)\n",
    "\n",
    "\n",
    "pr = PolynomialFeatures(degree = 3)\n",
    "X_poly = pr.fit_transform(np.array(X).reshape(-1, 1))\n",
    "lr_2 = LinearRegression()\n",
    "lr_2.fit(X_poly, y)"
   ]
  },
  {
   "cell_type": "code",
   "execution_count": 22,
   "metadata": {
    "colab": {
     "base_uri": "https://localhost:8080/",
     "height": 447
    },
    "id": "Y6bAXwES7ZcI",
    "outputId": "b03f6c16-896a-4056-bb48-41d0207a56e0"
   },
   "outputs": [
    {
     "name": "stdout",
     "output_type": "stream",
     "text": [
      "prediction lr: 380.96000000000026\n"
     ]
    },
    {
     "data": {
      "image/png": "[encoded data removed]",
      "text/plain": [
       "<Figure size 640x480 with 1 Axes>"
      ]
     },
     "metadata": {},
     "output_type": "display_data"
    }
   ],
   "source": [
    "\n",
    "range_of_prediction =  [i for i in range(len(all_controllable_spendings_of_a_month) +1)]\n",
    "reshaped_range = np.array(range_of_prediction).reshape(-1, 1)\n",
    "y_pred_lr = lr.predict(reshaped_range)\n",
    "# y_pred_pr = lr_2.predict(pr.fit_transform(reshaped_range))\n",
    "\n",
    "sns.lineplot(x = [i for i in range(len(y_pred_lr))], y = y_pred_lr,\n",
    "             color=\"red\")\n",
    "\n",
    "#sns.lineplot(x = [i for i in range(len(y_pred_pr))], y = y_pred_pr,color=\"yellow\")\n",
    "sns.lineplot(x = [i for i in range(len(all_controllable_spendings_of_a_month))], y = all_controllable_spendings_of_a_month)\n",
    "\n",
    "print(\"prediction lr:\",y_pred_lr[-1])"
   ]
  },
  {
   "cell_type": "code",
   "execution_count": 23,
   "metadata": {
    "colab": {
     "base_uri": "https://localhost:8080/",
     "height": 206
    },
    "id": "FZEg0g3ROUzT",
    "outputId": "61334279-8466-4e7a-8e74-3a821830f8f9"
   },
   "outputs": [
    {
     "data": {
      "text/html": [
       "<div>\n",
       "<style scoped>\n",
       "    .dataframe tbody tr th:only-of-type {\n",
       "        vertical-align: middle;\n",
       "    }\n",
       "\n",
       "    .dataframe tbody tr th {\n",
       "        vertical-align: top;\n",
       "    }\n",
       "\n",
       "    .dataframe thead th {\n",
       "        text-align: right;\n",
       "    }\n",
       "</style>\n",
       "<table border=\"1\" class=\"dataframe\">\n",
       "  <thead>\n",
       "    <tr style=\"text-align: right;\">\n",
       "      <th></th>\n",
       "      <th>y</th>\n",
       "    </tr>\n",
       "  </thead>\n",
       "  <tbody>\n",
       "    <tr>\n",
       "      <th>0</th>\n",
       "      <td>955.32</td>\n",
       "    </tr>\n",
       "    <tr>\n",
       "      <th>1</th>\n",
       "      <td>668.14</td>\n",
       "    </tr>\n",
       "  </tbody>\n",
       "</table>\n",
       "</div>"
      ],
      "text/plain": [
       "        y\n",
       "0  955.32\n",
       "1  668.14"
      ]
     },
     "execution_count": 23,
     "metadata": {},
     "output_type": "execute_result"
    }
   ],
   "source": [
    "data = pd.DataFrame(all_controllable_spendings_of_a_month, columns=['y'])\n",
    "#data['x'] = data.index\n",
    "data"
   ]
  },
  {
   "cell_type": "code",
   "execution_count": 26,
   "metadata": {
    "colab": {
     "base_uri": "https://localhost:8080/",
     "height": 887
    },
    "id": "95ny-aFrOFrL",
    "outputId": "0bce7832-df64-4e54-a172-078a939626e1"
   },
   "outputs": [
    {
     "data": {
      "image/png": "[encoded data removed]",
      "text/plain": [
       "<Figure size 640x480 with 1 Axes>"
      ]
     },
     "metadata": {},
     "output_type": "display_data"
    },
    {
     "data": {
      "image/png": "[encoded data removed]",
      "text/plain": [
       "<Figure size 640x480 with 1 Axes>"
      ]
     },
     "metadata": {},
     "output_type": "display_data"
    }
   ],
   "source": [
    "from statsmodels.graphics.tsaplots import plot_acf, plot_pacf\n",
    "\n",
    "# Assuming 'data' is the time series data\n",
    "plot_acf(data)\n",
    "plot_pacf(data)\n",
    "plt.show()"
   ]
  },
  {
   "cell_type": "code",
   "execution_count": 27,
   "metadata": {
    "colab": {
     "base_uri": "https://localhost:8080/"
    },
    "id": "_gs-yIrseNbB",
    "outputId": "e99bac04-3a89-40d8-f50c-dde78b20749c"
   },
   "outputs": [
    {
     "ename": "ValueError",
     "evalue": "The model specification cannot be estimated. The model contains 2 regressors (1 trend, 0 seasonal, 1 lags) but after adjustment for hold_back and creation of the lags, there are only 1 data points available to estimate parameters.",
     "output_type": "error",
     "traceback": [
      "\u001b[1;31m---------------------------------------------------------------------------\u001b[0m",
      "\u001b[1;31mValueError\u001b[0m                                Traceback (most recent call last)",
      "Cell \u001b[1;32mIn[27], line 5\u001b[0m\n\u001b[0;32m      3\u001b[0m n \u001b[38;5;241m=\u001b[39m \u001b[38;5;241m0\u001b[39m\n\u001b[0;32m      4\u001b[0m \u001b[38;5;66;03m# AR\u001b[39;00m\n\u001b[1;32m----> 5\u001b[0m model \u001b[38;5;241m=\u001b[39m \u001b[43mAutoReg\u001b[49m\u001b[43m(\u001b[49m\u001b[43mall_controllable_spendings_of_a_month\u001b[49m\u001b[43m,\u001b[49m\u001b[43m \u001b[49m\u001b[43mlags\u001b[49m\u001b[38;5;241;43m=\u001b[39;49m\u001b[43m[\u001b[49m\u001b[38;5;241;43m1\u001b[39;49m\u001b[43m]\u001b[49m\u001b[43m)\u001b[49m\n\u001b[0;32m      6\u001b[0m ar_model \u001b[38;5;241m=\u001b[39m model\u001b[38;5;241m.\u001b[39mfit()\n\u001b[0;32m      7\u001b[0m predictions \u001b[38;5;241m=\u001b[39m ar_model\u001b[38;5;241m.\u001b[39mpredict(start\u001b[38;5;241m=\u001b[39m\u001b[38;5;241m1\u001b[39m, end\u001b[38;5;241m=\u001b[39m\u001b[38;5;28mlen\u001b[39m(all_controllable_spendings_of_a_month)\u001b[38;5;241m+\u001b[39mn)  \u001b[38;5;66;03m# Replace n with the number of future values to predict\u001b[39;00m\n",
      "File \u001b[1;32m~\\AppData\\Roaming\\Python\\Python311\\site-packages\\statsmodels\\tsa\\ar_model.py:261\u001b[0m, in \u001b[0;36mAutoReg.__init__\u001b[1;34m(self, endog, lags, trend, seasonal, exog, hold_back, period, missing, deterministic, old_names)\u001b[0m\n\u001b[0;32m    252\u001b[0m     warnings\u001b[38;5;241m.\u001b[39mwarn(\n\u001b[0;32m    253\u001b[0m         \u001b[38;5;124m\"\u001b[39m\u001b[38;5;124mold_names will be removed after the 0.14 release. You should \u001b[39m\u001b[38;5;124m\"\u001b[39m\n\u001b[0;32m    254\u001b[0m         \u001b[38;5;124m\"\u001b[39m\u001b[38;5;124mstop setting this parameter and use the new names.\u001b[39m\u001b[38;5;124m\"\u001b[39m,\n\u001b[0;32m    255\u001b[0m         \u001b[38;5;167;01mFutureWarning\u001b[39;00m,\n\u001b[0;32m    256\u001b[0m         stacklevel\u001b[38;5;241m=\u001b[39m\u001b[38;5;241m2\u001b[39m,\n\u001b[0;32m    257\u001b[0m     )\n\u001b[0;32m    258\u001b[0m \u001b[38;5;28mself\u001b[39m\u001b[38;5;241m.\u001b[39m_lags, \u001b[38;5;28mself\u001b[39m\u001b[38;5;241m.\u001b[39m_hold_back \u001b[38;5;241m=\u001b[39m \u001b[38;5;28mself\u001b[39m\u001b[38;5;241m.\u001b[39m_check_lags(\n\u001b[0;32m    259\u001b[0m     lags, int_like(hold_back, \u001b[38;5;124m\"\u001b[39m\u001b[38;5;124mhold_back\u001b[39m\u001b[38;5;124m\"\u001b[39m, optional\u001b[38;5;241m=\u001b[39m\u001b[38;5;28;01mTrue\u001b[39;00m)\n\u001b[0;32m    260\u001b[0m )\n\u001b[1;32m--> 261\u001b[0m \u001b[38;5;28;43mself\u001b[39;49m\u001b[38;5;241;43m.\u001b[39;49m\u001b[43m_setup_regressors\u001b[49m\u001b[43m(\u001b[49m\u001b[43m)\u001b[49m\n\u001b[0;32m    262\u001b[0m \u001b[38;5;28mself\u001b[39m\u001b[38;5;241m.\u001b[39mnobs \u001b[38;5;241m=\u001b[39m \u001b[38;5;28mself\u001b[39m\u001b[38;5;241m.\u001b[39m_y\u001b[38;5;241m.\u001b[39mshape[\u001b[38;5;241m0\u001b[39m]\n\u001b[0;32m    263\u001b[0m \u001b[38;5;28mself\u001b[39m\u001b[38;5;241m.\u001b[39mdata\u001b[38;5;241m.\u001b[39mxnames \u001b[38;5;241m=\u001b[39m \u001b[38;5;28mself\u001b[39m\u001b[38;5;241m.\u001b[39mexog_names\n",
      "File \u001b[1;32m~\\AppData\\Roaming\\Python\\Python311\\site-packages\\statsmodels\\tsa\\ar_model.py:397\u001b[0m, in \u001b[0;36mAutoReg._setup_regressors\u001b[1;34m(self)\u001b[0m\n\u001b[0;32m    395\u001b[0m     lags \u001b[38;5;241m=\u001b[39m \u001b[38;5;28mlen\u001b[39m(\u001b[38;5;28mself\u001b[39m\u001b[38;5;241m.\u001b[39m_lags)\n\u001b[0;32m    396\u001b[0m     nobs \u001b[38;5;241m=\u001b[39m y\u001b[38;5;241m.\u001b[39mshape[\u001b[38;5;241m0\u001b[39m]\n\u001b[1;32m--> 397\u001b[0m     \u001b[38;5;28;01mraise\u001b[39;00m \u001b[38;5;167;01mValueError\u001b[39;00m(\n\u001b[0;32m    398\u001b[0m         \u001b[38;5;124m\"\u001b[39m\u001b[38;5;124mThe model specification cannot be estimated. \u001b[39m\u001b[38;5;124m\"\u001b[39m\n\u001b[0;32m    399\u001b[0m         \u001b[38;5;124mf\u001b[39m\u001b[38;5;124m\"\u001b[39m\u001b[38;5;124mThe model contains \u001b[39m\u001b[38;5;132;01m{\u001b[39;00mreg\u001b[38;5;132;01m}\u001b[39;00m\u001b[38;5;124m regressors (\u001b[39m\u001b[38;5;132;01m{\u001b[39;00mtrend\u001b[38;5;132;01m}\u001b[39;00m\u001b[38;5;124m trend, \u001b[39m\u001b[38;5;124m\"\u001b[39m\n\u001b[0;32m    400\u001b[0m         \u001b[38;5;124mf\u001b[39m\u001b[38;5;124m\"\u001b[39m\u001b[38;5;132;01m{\u001b[39;00mseas\u001b[38;5;132;01m}\u001b[39;00m\u001b[38;5;124m seasonal, \u001b[39m\u001b[38;5;132;01m{\u001b[39;00mlags\u001b[38;5;132;01m}\u001b[39;00m\u001b[38;5;124m lags) but after adjustment \u001b[39m\u001b[38;5;124m\"\u001b[39m\n\u001b[0;32m    401\u001b[0m         \u001b[38;5;124m\"\u001b[39m\u001b[38;5;124mfor hold_back and creation of the lags, there \u001b[39m\u001b[38;5;124m\"\u001b[39m\n\u001b[0;32m    402\u001b[0m         \u001b[38;5;124mf\u001b[39m\u001b[38;5;124m\"\u001b[39m\u001b[38;5;124mare only \u001b[39m\u001b[38;5;132;01m{\u001b[39;00mnobs\u001b[38;5;132;01m}\u001b[39;00m\u001b[38;5;124m data points available to estimate \u001b[39m\u001b[38;5;124m\"\u001b[39m\n\u001b[0;32m    403\u001b[0m         \u001b[38;5;124m\"\u001b[39m\u001b[38;5;124mparameters.\u001b[39m\u001b[38;5;124m\"\u001b[39m\n\u001b[0;32m    404\u001b[0m     )\n\u001b[0;32m    405\u001b[0m \u001b[38;5;28mself\u001b[39m\u001b[38;5;241m.\u001b[39m_y, \u001b[38;5;28mself\u001b[39m\u001b[38;5;241m.\u001b[39m_x \u001b[38;5;241m=\u001b[39m y, x\n\u001b[0;32m    406\u001b[0m \u001b[38;5;28mself\u001b[39m\u001b[38;5;241m.\u001b[39m_exog_names \u001b[38;5;241m=\u001b[39m exog_names\n",
      "\u001b[1;31mValueError\u001b[0m: The model specification cannot be estimated. The model contains 2 regressors (1 trend, 0 seasonal, 1 lags) but after adjustment for hold_back and creation of the lags, there are only 1 data points available to estimate parameters."
     ]
    }
   ],
   "source": [
    "from statsmodels.tsa.ar_model import AutoReg\n",
    "\n",
    "n = 0\n",
    "# AR\n",
    "model = AutoReg(all_controllable_spendings_of_a_month, lags=[1])\n",
    "ar_model = model.fit()\n",
    "predictions = ar_model.predict(start=1, end=len(all_controllable_spendings_of_a_month)+n)  # Replace n with the number of future values to predict\n",
    "predictions"
   ]
  },
  {
   "cell_type": "code",
   "execution_count": 28,
   "metadata": {
    "colab": {
     "base_uri": "https://localhost:8080/",
     "height": 447
    },
    "id": "xTGMFAskPXV9",
    "outputId": "92f8c12a-aef5-4b83-dcf5-e150d1b0bb89"
   },
   "outputs": [
    {
     "ename": "NameError",
     "evalue": "name 'predictions' is not defined",
     "output_type": "error",
     "traceback": [
      "\u001b[1;31m---------------------------------------------------------------------------\u001b[0m",
      "\u001b[1;31mNameError\u001b[0m                                 Traceback (most recent call last)",
      "Cell \u001b[1;32mIn[28], line 1\u001b[0m\n\u001b[1;32m----> 1\u001b[0m sns\u001b[38;5;241m.\u001b[39mlineplot(x \u001b[38;5;241m=\u001b[39m [i\u001b[38;5;241m+\u001b[39m\u001b[38;5;241m1\u001b[39m \u001b[38;5;28;01mfor\u001b[39;00m i \u001b[38;5;129;01min\u001b[39;00m \u001b[38;5;28mrange\u001b[39m(\u001b[38;5;28mlen\u001b[39m(\u001b[43mpredictions\u001b[49m))], y \u001b[38;5;241m=\u001b[39m predictions)\n\u001b[0;32m      2\u001b[0m sns\u001b[38;5;241m.\u001b[39mlineplot(x \u001b[38;5;241m=\u001b[39m [i \u001b[38;5;28;01mfor\u001b[39;00m i \u001b[38;5;129;01min\u001b[39;00m \u001b[38;5;28mrange\u001b[39m(\u001b[38;5;28mlen\u001b[39m(all_controllable_spendings_of_a_month))], y \u001b[38;5;241m=\u001b[39m all_controllable_spendings_of_a_month)\n",
      "\u001b[1;31mNameError\u001b[0m: name 'predictions' is not defined"
     ]
    }
   ],
   "source": [
    "\n",
    "sns.lineplot(x = [i+1 for i in range(len(predictions))], y = predictions)\n",
    "sns.lineplot(x = [i for i in range(len(all_controllable_spendings_of_a_month))], y = all_controllable_spendings_of_a_month)"
   ]
  },
  {
   "cell_type": "code",
   "execution_count": 79,
   "metadata": {
    "colab": {
     "base_uri": "https://localhost:8080/"
    },
    "id": "D1qfYVfKeNpG",
    "outputId": "832dcec9-b002-43e6-e3e1-1c1d780ef9c9"
   },
   "outputs": [
    {
     "data": {
      "text/plain": [
       "array([452.50320549])"
      ]
     },
     "execution_count": 79,
     "metadata": {},
     "output_type": "execute_result"
    }
   ],
   "source": [
    "\n",
    "# representando auto regression com linear regression, para p=1\n",
    "ar_lr = LinearRegression()\n",
    "\n",
    "y_x = y[:-1]\n",
    "y_y = y[1:]\n",
    "ar_lr.fit(np.array(y_x).reshape(-1, 1), y_y)\n",
    "\n",
    "\n",
    "reshaped_range = np.array([y[-1]]).reshape(-1, 1)\n",
    "y_pred_auto_lr = ar_lr.predict(reshaped_range)\n",
    "\n",
    "y_pred_auto_lr"
   ]
  }
 ],
 "metadata": {
  "colab": {
   "provenance": []
  },
  "kernelspec": {
   "display_name": "Python 3",
   "name": "python3"
  },
  "language_info": {
   "codemirror_mode": {
    "name": "ipython",
    "version": 3
   },
   "file_extension": ".py",
   "mimetype": "text/x-python",
   "name": "python",
   "nbconvert_exporter": "python",
   "pygments_lexer": "ipython3",
   "version": "3.11.5"
  }
 },
 "nbformat": 4,
 "nbformat_minor": 0
}
